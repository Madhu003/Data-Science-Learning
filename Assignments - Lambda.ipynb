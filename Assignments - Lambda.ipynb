{
 "cells": [
  {
   "cell_type": "markdown",
   "id": "0d4f9d30-ff9c-4a66-8a5f-86d3a7fa9b00",
   "metadata": {},
   "source": [
    "### Question 1."
   ]
  },
  {
   "cell_type": "code",
   "execution_count": 18,
   "id": "608677a1-446b-453c-9a58-aad4650e79c8",
   "metadata": {},
   "outputs": [
    {
     "data": {
      "text/plain": [
       "[4, 5, 6, 7, 8, 9]"
      ]
     },
     "execution_count": 18,
     "metadata": {},
     "output_type": "execute_result"
    }
   ],
   "source": [
    "list_1 = (5,7,8,9,6,4)\n",
    "# list(list_1).sort(key=\n",
    "\n",
    "sorted(list_1, key=lambda x: x)\n"
   ]
  },
  {
   "cell_type": "markdown",
   "id": "f60cbfb6-cae5-4728-83ac-44062e1c38e4",
   "metadata": {},
   "source": [
    "### Question 2."
   ]
  },
  {
   "cell_type": "code",
   "execution_count": 21,
   "id": "480ac0d8-2905-4cad-907d-e6b6af62aac0",
   "metadata": {},
   "outputs": [
    {
     "data": {
      "text/plain": [
       "[1, 4, 9, 16, 25, 36, 49, 64, 81, 100]"
      ]
     },
     "execution_count": 21,
     "metadata": {},
     "output_type": "execute_result"
    }
   ],
   "source": [
    "list_2 = [1, 2, 3, 4, 5, 6, 7, 8, 9, 10]\n",
    "\n",
    "list(map(lambda x: x**2, list_2))"
   ]
  },
  {
   "cell_type": "markdown",
   "id": "aa0d0044-b03d-4da0-ba64-5ce84eef683f",
   "metadata": {},
   "source": [
    "### Question 3."
   ]
  },
  {
   "cell_type": "code",
   "execution_count": 22,
   "id": "fbe85a2b-d370-418a-b90e-2d9253aaaf26",
   "metadata": {},
   "outputs": [
    {
     "data": {
      "text/plain": [
       "('1', '2', '3', '4', '5', '6', '7', '8', '9', '10')"
      ]
     },
     "execution_count": 22,
     "metadata": {},
     "output_type": "execute_result"
    }
   ],
   "source": [
    "list_3 = [1, 2, 3, 4, 5, 6, 7, 8, 9, 10]\n",
    "\n",
    "tuple(map(lambda x: str(x), list_2))"
   ]
  },
  {
   "cell_type": "markdown",
   "id": "85a8f7a7-579c-4566-9339-f82ba5100277",
   "metadata": {},
   "source": [
    "### Question 4."
   ]
  },
  {
   "cell_type": "code",
   "execution_count": 28,
   "id": "f16db72a-9450-4dc5-a494-a0617cceaf33",
   "metadata": {},
   "outputs": [
    {
     "data": {
      "text/plain": [
       "15511210043330985984000000"
      ]
     },
     "execution_count": 28,
     "metadata": {},
     "output_type": "execute_result"
    }
   ],
   "source": [
    "import functools\n",
    "\n",
    "list_4 = range(1, 26)\n",
    "\n",
    "functools.reduce(lambda x, y: x*y, list_4)"
   ]
  },
  {
   "cell_type": "markdown",
   "id": "5c2553c9-f0af-42f6-95cf-7440c6c72929",
   "metadata": {},
   "source": [
    "### Question 5."
   ]
  },
  {
   "cell_type": "code",
   "execution_count": 32,
   "id": "4d2c3c48-105f-4cbe-8a25-657e8a8349ca",
   "metadata": {},
   "outputs": [
    {
     "data": {
      "text/plain": [
       "[6, 60, 90, 120]"
      ]
     },
     "execution_count": 32,
     "metadata": {},
     "output_type": "execute_result"
    }
   ],
   "source": [
    "list_5 = [2, 3, 6, 9, 27, 60, 90, 120, 55, 46]\n",
    "\n",
    "list(filter(lambda x: x % 2 == 0 and x % 3 == 0, list_5))"
   ]
  },
  {
   "cell_type": "markdown",
   "id": "66678f26-e063-432b-a593-62b462a41563",
   "metadata": {},
   "source": [
    "### Question 6."
   ]
  },
  {
   "cell_type": "code",
   "execution_count": 42,
   "id": "11e3a8a4-7fd0-4349-9a40-156a25de705e",
   "metadata": {},
   "outputs": [
    {
     "data": {
      "text/plain": [
       "['php', 'aba', 'radar', 'level']"
      ]
     },
     "execution_count": 42,
     "metadata": {},
     "output_type": "execute_result"
    }
   ],
   "source": [
    "list_6 = ['python', 'php', 'aba', 'radar', 'level']\n",
    "\n",
    "def check(str):\n",
    "    i, j = 0, len(str)-1\n",
    "    \n",
    "    while i <= j:\n",
    "        if str[i] == str[j]:\n",
    "            i += 1\n",
    "            j -= 1\n",
    "        else:\n",
    "            return False\n",
    "    return True    \n",
    "\n",
    "list(filter(check, list_6))"
   ]
  },
  {
   "cell_type": "code",
   "execution_count": null,
   "id": "b1d31ec9-c3bc-4438-9c71-270a797eb2bb",
   "metadata": {},
   "outputs": [],
   "source": []
  }
 ],
 "metadata": {
  "kernelspec": {
   "display_name": "Python 3 (ipykernel)",
   "language": "python",
   "name": "python3"
  },
  "language_info": {
   "codemirror_mode": {
    "name": "ipython",
    "version": 3
   },
   "file_extension": ".py",
   "mimetype": "text/x-python",
   "name": "python",
   "nbconvert_exporter": "python",
   "pygments_lexer": "ipython3",
   "version": "3.10.8"
  }
 },
 "nbformat": 4,
 "nbformat_minor": 5
}
