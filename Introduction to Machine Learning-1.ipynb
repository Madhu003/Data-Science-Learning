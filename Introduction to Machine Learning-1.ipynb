{
 "cells": [
  {
   "attachments": {},
   "cell_type": "markdown",
   "metadata": {},
   "source": [
    "### Question 1.\n",
    "1. Artificial Intelligence\n",
    "###### AI is a superset of all tech in which ML & DL or Data Science comes. And formal definaition for that is AI is a tech in which computer can perform on smart application whitout human intervention.\n",
    "\n",
    "2. Machine Learning\n",
    "###### This tech provide stats to get know about data in detail and also helps to make model so can do prediction on new data which will come in future on production.\n",
    "\n",
    "3. Deep Learning\n",
    "###### This tech works on mimicing the human brain so can taje decision as humans do like detecting image. "
   ]
  },
  {
   "attachments": {},
   "cell_type": "markdown",
   "metadata": {},
   "source": [
    "### Question 2."
   ]
  },
  {
   "attachments": {},
   "cell_type": "markdown",
   "metadata": {},
   "source": [
    "**Supervised Machine Learning** - In this type of ML data use to label and thtrain the model fo prediction. And also in this typ eof ML testing happnes of sample data og mail dataset.\n",
    "\n",
    "**Ex.** Mail spam detections, and fraud detection on sms or phone class or in payment gateway."
   ]
  },
  {
   "attachments": {},
   "cell_type": "markdown",
   "metadata": {},
   "source": [
    "### Question 3."
   ]
  },
  {
   "attachments": {},
   "cell_type": "markdown",
   "metadata": {},
   "source": [
    "**Unsupervised Machine Learning** -  is it unlanled ml in which computer can undertsand the data to process it so big hcunk of data can be processed.\n",
    "\n",
    "**Ex.** lets say we have lots of blogs as dataset and we wants to group them in categories."
   ]
  },
  {
   "cell_type": "markdown",
   "metadata": {},
   "source": []
  }
 ],
 "metadata": {
  "language_info": {
   "name": "python"
  },
  "orig_nbformat": 4
 },
 "nbformat": 4,
 "nbformat_minor": 2
}
