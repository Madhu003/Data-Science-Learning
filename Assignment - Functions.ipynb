{
 "cells": [
  {
   "cell_type": "markdown",
   "id": "e5a07b97-71b6-417d-9482-14d2017d28a8",
   "metadata": {
    "tags": []
   },
   "source": [
    "# Assignment - Functions"
   ]
  },
  {
   "cell_type": "markdown",
   "id": "5b91ce0f-fa7d-4086-b8d1-5940069afc38",
   "metadata": {
    "tags": []
   },
   "source": [
    "### Question 1. "
   ]
  },
  {
   "cell_type": "markdown",
   "id": "792ecf52-175c-424e-b907-40ae78f0f4c0",
   "metadata": {
    "tags": []
   },
   "source": [
    "#### Functions can be created by using keyword def as defination of function -   "
   ]
  },
  {
   "cell_type": "code",
   "execution_count": 2,
   "id": "ce191c90-7ed3-4be4-98aa-05c0fbcdf882",
   "metadata": {},
   "outputs": [
    {
     "name": "stdout",
     "output_type": "stream",
     "text": [
      "1\n",
      "3\n",
      "5\n",
      "7\n",
      "9\n",
      "11\n",
      "13\n",
      "15\n",
      "17\n",
      "19\n",
      "21\n",
      "23\n",
      "25\n"
     ]
    }
   ],
   "source": [
    "def printOdds():\n",
    "    for i in range(1, 26):\n",
    "        if (i %2 != 0):\n",
    "            print (i)\n",
    "     \n",
    "printOdds()    "
   ]
  },
  {
   "cell_type": "markdown",
   "id": "20acd1f0-b606-4a8f-b4af-ce11f1445f6f",
   "metadata": {
    "tags": []
   },
   "source": [
    "### Question 2. "
   ]
  },
  {
   "cell_type": "markdown",
   "id": "a7b418f1-6a9b-4fb9-a939-4b6753374935",
   "metadata": {
    "tags": []
   },
   "source": [
    "#### *args use to accept multiple arguments as a comma seprated list  and **pwargs is to accept key value pair as dictionary. And for that this is signature- "
   ]
  },
  {
   "cell_type": "code",
   "execution_count": 3,
   "id": "5b43dd81-94fb-40a0-9777-a1439893bdd2",
   "metadata": {},
   "outputs": [
    {
     "name": "stdout",
     "output_type": "stream",
     "text": [
      "(1, 3, 4, 5)\n",
      "{'a': 2, 'b': 2}\n"
     ]
    }
   ],
   "source": [
    "def test(*args, **pwArgs):\n",
    "    print(args)\n",
    "    print(pwArgs)\n",
    "\n",
    "test(1,3,4,5, a=2, b=2)"
   ]
  },
  {
   "cell_type": "markdown",
   "id": "192f5e9d-3746-4e45-9454-61f9f21aea38",
   "metadata": {
    "tags": []
   },
   "source": [
    "### Question 3. "
   ]
  },
  {
   "cell_type": "markdown",
   "id": "283e86f1-de3b-476f-bb6c-9c4a188d5ebe",
   "metadata": {
    "tags": []
   },
   "source": [
    "#### Iterator a functionaly in python by which we can loop over for certain amount of time & that iterator given value in that current iration to use or perform th task, By iter we can create a interator and for interating throught it we can either directly use for loop or we can use next to manually itrate by it. "
   ]
  },
  {
   "cell_type": "code",
   "execution_count": 8,
   "id": "9e259475-2936-4b72-83d8-ac431d5edf83",
   "metadata": {},
   "outputs": [
    {
     "name": "stdout",
     "output_type": "stream",
     "text": [
      "2\n",
      "4\n",
      "6\n",
      "8\n",
      "10\n"
     ]
    }
   ],
   "source": [
    "# interableVar1 = iter([1,2,3,4,5,6,7,8,9])\n",
    "interableVar2 = iter([2, 4, 6, 8, 10, 12, 14, 16, 18, 20])\n",
    "\n",
    "# for i in interableVar1:\n",
    "#     print(i)\n",
    "    \n",
    "print(next(interableVar2))\n",
    "print(next(interableVar2))\n",
    "print(next(interableVar2))\n",
    "print(next(interableVar2))\n",
    "print(next(interableVar2))\n",
    "    \n",
    "    "
   ]
  },
  {
   "cell_type": "markdown",
   "id": "b4f9d551-d29c-4ecf-a281-649d944e4da9",
   "metadata": {
    "tags": []
   },
   "source": [
    "### Question 4. "
   ]
  },
  {
   "cell_type": "markdown",
   "id": "f79d6b01-d095-4fae-b384-ba4b5f1e5a32",
   "metadata": {},
   "source": [
    "#### Generator is a special type of function use for large data to iterate throught it as we want. And for that yield is use that return value for the iteration."
   ]
  },
  {
   "cell_type": "code",
   "execution_count": 10,
   "id": "6af7ce23-30ea-42c2-949c-7e3b8992805f",
   "metadata": {},
   "outputs": [
    {
     "name": "stdout",
     "output_type": "stream",
     "text": [
      "1\n",
      "4\n",
      "9\n"
     ]
    }
   ],
   "source": [
    "def generatorFun(): \n",
    "    listData= [1,2,3,4,5,6]\n",
    "    \n",
    "    for i in listData:\n",
    "        yield i ** 2\n",
    "\n",
    "iterableVar = generatorFun()        \n",
    "\n",
    "print(next(iterableVar))\n",
    "print(next(iterableVar))\n",
    "print(next(iterableVar))\n",
    "\n"
   ]
  },
  {
   "cell_type": "markdown",
   "id": "71e37127-0e08-44ed-a020-8e471fba743f",
   "metadata": {
    "tags": []
   },
   "source": [
    "### Question 5. "
   ]
  },
  {
   "cell_type": "code",
   "execution_count": 27,
   "id": "a142f593-c501-4cdd-b612-64f3182fb545",
   "metadata": {},
   "outputs": [
    {
     "name": "stdout",
     "output_type": "stream",
     "text": [
      "2\n",
      "3\n",
      "5\n",
      "7\n",
      "11\n",
      "13\n",
      "17\n",
      "19\n",
      "23\n",
      "29\n",
      "31\n",
      "37\n",
      "41\n",
      "43\n",
      "47\n",
      "53\n",
      "59\n",
      "61\n",
      "67\n",
      "71\n",
      "73\n"
     ]
    }
   ],
   "source": [
    "def getPrimeNumbers():\n",
    "    limit = 1000\n",
    "    \n",
    "    for i in range(2, limit+1):\n",
    "        # print(i, \"-<\")\n",
    "        if(i == 2):\n",
    "            yield 2\n",
    "            continue\n",
    "            \n",
    "        isDivisable = True\n",
    "        \n",
    "        for j in range(2, i):\n",
    "            # print(i, j, \"-<<\")\n",
    "            \n",
    "            if i % j == 0:\n",
    "                isDivisable = False\n",
    "                break\n",
    "                \n",
    "        if isDivisable:\n",
    "            yield i\n",
    "\n",
    "        \n",
    "iterableVar = getPrimeNumbers()        \n",
    "\n",
    "for i in range(21):\n",
    "    print(next(iterableVar))\n"
   ]
  },
  {
   "cell_type": "code",
   "execution_count": 26,
   "id": "715a06b3-4d21-445e-84da-af052e5038eb",
   "metadata": {},
   "outputs": [],
   "source": [
    "# for i in range(2):\n",
    "#     for j in range(2):\n",
    "#         print(i, j)"
   ]
  }
 ],
 "metadata": {
  "kernelspec": {
   "display_name": "Python 3 (ipykernel)",
   "language": "python",
   "name": "python3"
  },
  "language_info": {
   "codemirror_mode": {
    "name": "ipython",
    "version": 3
   },
   "file_extension": ".py",
   "mimetype": "text/x-python",
   "name": "python",
   "nbconvert_exporter": "python",
   "pygments_lexer": "ipython3",
   "version": "3.10.8"
  }
 },
 "nbformat": 4,
 "nbformat_minor": 5
}
