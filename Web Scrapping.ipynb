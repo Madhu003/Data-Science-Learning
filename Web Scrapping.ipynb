{
 "cells": [
  {
   "cell_type": "markdown",
   "id": "5239b7a6-cc4e-46c0-8e6d-1ce738ecc402",
   "metadata": {
    "jp-MarkdownHeadingCollapsed": true,
    "tags": []
   },
   "source": [
    "### Question 1."
   ]
  },
  {
   "cell_type": "markdown",
   "id": "b0ee5c36-a5ec-4c22-bdc1-bff09c7580b0",
   "metadata": {},
   "source": [
    "Web Scraping is term use to getch data form a web page. Like a url when we hit we get web page on browser same in web scarpping through code (in our case python) we request web page in html format and from there we filter out use ful information. \n",
    "\n",
    "Web scapping use to collect data so after that we can analyse that.\n",
    "\n",
    "For marketing we can use. ANd Also for researcg purpose we can use. Third point can be for analytics we can use web scapping."
   ]
  },
  {
   "cell_type": "markdown",
   "id": "acb00043-9309-4222-b51c-ec95a684641d",
   "metadata": {
    "jp-MarkdownHeadingCollapsed": true,
    "tags": []
   },
   "source": [
    "### Question 2."
   ]
  },
  {
   "cell_type": "markdown",
   "id": "ddf7fdeb-9443-4b62-82a1-a4978c1b37f8",
   "metadata": {},
   "source": [
    "There are some ways for web scrapping -\n",
    "\n",
    "1. Writing custom web scrapers means by our code we can fetch data or information form a perticular website.\n",
    "\n",
    "2. Using some libraries like beautiful shop. which provide in build functions to make that process smooth.\n",
    "\n",
    "3. Through APIs spme third party API by which we can directly fetch data where we don't need to load web page direct data will be available in API response."
   ]
  },
  {
   "cell_type": "markdown",
   "id": "27b373eb-ee21-4a15-9904-e39821cf6cad",
   "metadata": {
    "jp-MarkdownHeadingCollapsed": true,
    "tags": []
   },
   "source": [
    "### Question 3."
   ]
  },
  {
   "cell_type": "markdown",
   "id": "498128a4-008e-46d3-9ca0-98147c914af4",
   "metadata": {},
   "source": [
    "Beautiful Soup is a library which we can use in python by  import it & installing by pip install. That lib is use to beautify HTML contemt to see data & second is important is for **web scapping**."
   ]
  },
  {
   "cell_type": "markdown",
   "id": "1976cc7b-c406-49a4-b2cb-aaec77275547",
   "metadata": {
    "tags": []
   },
   "source": [
    "### Question 4."
   ]
  },
  {
   "cell_type": "markdown",
   "id": "d41f2450-1e48-4264-a4be-33ebe01f9878",
   "metadata": {},
   "source": [
    "Flask is a server side freamword to creat web application. And if we talk about web scrapping by that we collect data and flask can help here with to provide that data as a form of API which gathered in web scrapping and also we can save in database as well. "
   ]
  },
  {
   "cell_type": "markdown",
   "id": "90147a86-e06f-444d-bc8c-e003221bc07b",
   "metadata": {
    "tags": []
   },
   "source": [
    "### Question 5."
   ]
  },
  {
   "cell_type": "markdown",
   "id": "42154a56-74fc-4843-b593-da7760e1a53e",
   "metadata": {},
   "source": [
    "1. AWS CodePipeline which we connect with github repo so AWS service get to know that from where cod ewill come from.\n",
    "\n",
    "2. Elastic BeanStack that is connected to CI/CD Pipeline. That service use to make a build & deploy on petticular URL."
   ]
  },
  {
   "cell_type": "code",
   "execution_count": null,
   "id": "2c7807ce-0392-44a6-845d-40f1c13d386d",
   "metadata": {},
   "outputs": [],
   "source": []
  },
  {
   "cell_type": "code",
   "execution_count": null,
   "id": "e1963c39-b92c-428a-9dcd-6cee245ecca1",
   "metadata": {},
   "outputs": [],
   "source": []
  },
  {
   "cell_type": "code",
   "execution_count": null,
   "id": "0483f86d-81fb-4cd7-8528-76a12b7e057e",
   "metadata": {},
   "outputs": [],
   "source": []
  },
  {
   "cell_type": "code",
   "execution_count": null,
   "id": "3989fe03-b5b4-49c8-9d9b-916354f0ff81",
   "metadata": {},
   "outputs": [],
   "source": []
  },
  {
   "cell_type": "code",
   "execution_count": null,
   "id": "ebd65f36-1f95-4eff-bcfc-322708694ef2",
   "metadata": {},
   "outputs": [],
   "source": []
  },
  {
   "cell_type": "code",
   "execution_count": null,
   "id": "97836ff3-896a-4938-9d39-f2aab14bdecf",
   "metadata": {},
   "outputs": [],
   "source": []
  },
  {
   "cell_type": "code",
   "execution_count": null,
   "id": "f7bd567b-ea27-4803-b832-5b852bb110ee",
   "metadata": {},
   "outputs": [],
   "source": []
  }
 ],
 "metadata": {
  "kernelspec": {
   "display_name": "Python 3 (ipykernel)",
   "language": "python",
   "name": "python3"
  },
  "language_info": {
   "codemirror_mode": {
    "name": "ipython",
    "version": 3
   },
   "file_extension": ".py",
   "mimetype": "text/x-python",
   "name": "python",
   "nbconvert_exporter": "python",
   "pygments_lexer": "ipython3",
   "version": "3.10.8"
  }
 },
 "nbformat": 4,
 "nbformat_minor": 5
}
