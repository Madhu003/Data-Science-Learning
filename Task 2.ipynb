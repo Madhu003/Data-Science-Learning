{
 "cells": [
  {
   "cell_type": "code",
   "execution_count": 10,
   "id": "fa41502a-2a44-47b5-a5d1-a424cfb5ac5e",
   "metadata": {},
   "outputs": [],
   "source": [
    "import re"
   ]
  },
  {
   "cell_type": "markdown",
   "id": "e95e5d82-9539-4213-bd85-51ae05fc1af7",
   "metadata": {},
   "source": [
    "### Question 1."
   ]
  },
  {
   "cell_type": "code",
   "execution_count": 35,
   "id": "ceb225eb-2314-46a7-aa18-5a496baadf84",
   "metadata": {
    "tags": []
   },
   "outputs": [
    {
     "name": "stdin",
     "output_type": "stream",
     "text": [
      "Enter password:  MMadhu @$#123\n"
     ]
    },
    {
     "name": "stdout",
     "output_type": "stream",
     "text": [
      "True\n"
     ]
    }
   ],
   "source": [
    "passwordStr = input(\"Enter password: \")\n",
    "\n",
    "def check_pass (passwordStr):\n",
    "    ## lower\n",
    "    counter = 0\n",
    "    for i in passwordStr:     \n",
    "        if(i.islower()):\n",
    "            counter += 1\n",
    "\n",
    "    if(counter < 2):\n",
    "        return False  \n",
    "      \n",
    "    ## upper\n",
    "    counter = 0\n",
    "    for i in passwordStr:     \n",
    "        if(i.isupper()):\n",
    "            counter += 1\n",
    "        \n",
    "    if(counter < 2):\n",
    "        return False  \n",
    "    \n",
    "    ## num\n",
    "    counter = 0\n",
    "    for i in passwordStr:     \n",
    "        if(i.isnumeric()):\n",
    "            counter += 1\n",
    "        \n",
    "    if(counter < 1):\n",
    "        return False \n",
    "    \n",
    "    special_chars = \"!@#$%^&*\"\n",
    "    ## special_chars\n",
    "    counter = 0\n",
    "    for i in passwordStr:     \n",
    "        if(i in special_chars):\n",
    "            counter += 1\n",
    "        \n",
    "    if(counter < 3):\n",
    "        return False \n",
    "    \n",
    "    ## length\n",
    "    if(len(passwordStr) < 10):\n",
    "        print(\"length\")\n",
    "        \n",
    "        return False \n",
    "\n",
    "    return True\n",
    "\n",
    "print(check_pass(passwordStr))\n"
   ]
  },
  {
   "cell_type": "code",
   "execution_count": 33,
   "id": "49988f73-550b-4a82-b422-5624be384a8a",
   "metadata": {},
   "outputs": [
    {
     "data": {
      "text/plain": [
       "True"
      ]
     },
     "execution_count": 33,
     "metadata": {},
     "output_type": "execute_result"
    }
   ],
   "source": [
    "\"f\" in \"Madfhu\""
   ]
  },
  {
   "cell_type": "markdown",
   "id": "58d6ed0a-2b23-4fab-a09c-61f4dcbd32a8",
   "metadata": {},
   "source": [
    "### Question 2."
   ]
  },
  {
   "cell_type": "markdown",
   "id": "02c02dc7-58be-4308-ab33-1c7845f9b41b",
   "metadata": {},
   "source": [
    "#### 1."
   ]
  },
  {
   "cell_type": "code",
   "execution_count": 18,
   "id": "951d804c-8eb6-4e56-a8a9-7e31b8720b0a",
   "metadata": {},
   "outputs": [
    {
     "name": "stdin",
     "output_type": "stream",
     "text": [
      "Enter your string madhu\n"
     ]
    },
    {
     "name": "stdout",
     "output_type": "stream",
     "text": [
      "Given stirng is starting with 'm'\n"
     ]
    }
   ],
   "source": [
    "given_str = input(\"Enter your string\")\n",
    "\n",
    "check_string_start_with_m = lambda s: given_str[0].lower() == \"m\"\n",
    "\n",
    "if check_string_start_with_m(given_str):\n",
    "    print(\"Given stirng is starting with 'm'\")\n",
    "else:\n",
    "    print(\"Given stirng is not starting with 'm'\")"
   ]
  },
  {
   "cell_type": "markdown",
   "id": "d6c0b7e3-a990-4ceb-b321-282dcc0df8d8",
   "metadata": {},
   "source": [
    "#### 2."
   ]
  },
  {
   "cell_type": "code",
   "execution_count": 20,
   "id": "7e880544-2ed4-4392-ab5e-9ff8c1e87782",
   "metadata": {
    "tags": []
   },
   "outputs": [
    {
     "name": "stdin",
     "output_type": "stream",
     "text": [
      "Enter your string 456\n"
     ]
    },
    {
     "name": "stdout",
     "output_type": "stream",
     "text": [
      "Given stirng is numeric\n"
     ]
    }
   ],
   "source": [
    "given_str = input(\"Enter your string\")\n",
    "\n",
    "check_string_is_numeric = lambda s: given_str.isnumeric()\n",
    "\n",
    "if check_string_is_numeric(given_str):\n",
    "    print(\"Given stirng is numeric\")\n",
    "else:\n",
    "    print(\"Given stirng is not numeric\")"
   ]
  },
  {
   "cell_type": "markdown",
   "id": "90bd356d-246b-4e75-a4a9-4b39b520bbf7",
   "metadata": {
    "tags": []
   },
   "source": [
    "#### 3."
   ]
  },
  {
   "cell_type": "code",
   "execution_count": 23,
   "id": "05ea6431-ded3-4d45-a8df-1b67b481388b",
   "metadata": {},
   "outputs": [
    {
     "name": "stdout",
     "output_type": "stream",
     "text": [
      "Fruites wise sorting  [('grapes', 1000), ('mango', 99), ('orange', 80)]\n",
      "Fruites wise sorting  [('orange', 80), ('mango', 99), ('grapes', 1000)]\n"
     ]
    }
   ],
   "source": [
    "tuple_list = [(\"mango\",99),(\"orange\",80), (\"grapes\", 1000)]\n",
    "\n",
    "print(\"Fruites wise sorting \", sorted(tuple_list, key = lambda element: element[0])) \n",
    "print(\"Fruites wise sorting \", sorted(tuple_list, key = lambda element: element[1])) "
   ]
  },
  {
   "cell_type": "markdown",
   "id": "607686b5-df97-4f17-8810-c0c9ca80e8c8",
   "metadata": {},
   "source": [
    "#### 4."
   ]
  },
  {
   "cell_type": "code",
   "execution_count": 27,
   "id": "ea89aabe-7353-4027-bfb5-8a29ce41fda9",
   "metadata": {},
   "outputs": [
    {
     "data": {
      "text/plain": [
       "[0, 1, 4, 9, 16, 25, 36, 49, 64, 81, 100]"
      ]
     },
     "execution_count": 27,
     "metadata": {},
     "output_type": "execute_result"
    }
   ],
   "source": [
    "series = list(range(11))\n",
    "\n",
    "list(map(lambda element: element**2, series))"
   ]
  },
  {
   "cell_type": "markdown",
   "id": "df8b7bb0-e734-4cc2-9c66-62ba175dcb5c",
   "metadata": {},
   "source": [
    "#### 5."
   ]
  },
  {
   "cell_type": "code",
   "execution_count": 28,
   "id": "93b02887-2e7b-4222-899a-b9707c139e33",
   "metadata": {},
   "outputs": [
    {
     "data": {
      "text/plain": [
       "[0, 1, 8, 27, 64, 125, 216, 343, 512, 729, 1000]"
      ]
     },
     "execution_count": 28,
     "metadata": {},
     "output_type": "execute_result"
    }
   ],
   "source": [
    "series = list(range(11))\n",
    "\n",
    "list(map(lambda element: element**3, series))"
   ]
  },
  {
   "cell_type": "markdown",
   "id": "1ae7b1cf-f12b-44e5-850a-e816ebcfad59",
   "metadata": {},
   "source": [
    "#### 6."
   ]
  },
  {
   "cell_type": "code",
   "execution_count": 2,
   "id": "fffaa78d-a0db-45ba-81d9-dfb14ad608b6",
   "metadata": {},
   "outputs": [
    {
     "name": "stdin",
     "output_type": "stream",
     "text": [
      "Enter to number -  65\n"
     ]
    },
    {
     "name": "stdout",
     "output_type": "stream",
     "text": [
      "Odd\n"
     ]
    }
   ],
   "source": [
    "check_numberis_event = lambda num: num % 2 == 0\n",
    "\n",
    "num = int(input(\"Enter to number - \"))\n",
    "\n",
    "print(\"Even\" if check_numberis_event(num) else \"Odd\")"
   ]
  },
  {
   "cell_type": "markdown",
   "id": "ad327ae4-290a-4fed-ae49-25b064cb7364",
   "metadata": {},
   "source": [
    "#### 7."
   ]
  },
  {
   "cell_type": "code",
   "execution_count": 4,
   "id": "59d98a32-c509-4dad-bffb-88bf55592809",
   "metadata": {},
   "outputs": [
    {
     "data": {
      "text/plain": [
       "[1, 3, 5, 7, 9]"
      ]
     },
     "execution_count": 4,
     "metadata": {},
     "output_type": "execute_result"
    }
   ],
   "source": [
    "given_list = [1,2,3,4,5,6,7,8,9,10]\n",
    "\n",
    "list(filter(lambda num: num % 2 != 0, given_list))"
   ]
  },
  {
   "cell_type": "markdown",
   "id": "9edd643d-4baa-46ca-93c1-a942dc705e13",
   "metadata": {},
   "source": [
    "#### 8."
   ]
  },
  {
   "cell_type": "code",
   "execution_count": 7,
   "id": "3d19a279-294e-403c-bd37-8b0e86d02274",
   "metadata": {},
   "outputs": [
    {
     "data": {
      "text/plain": [
       "[-5, -4, -3, -2, -1, 0, 1, 2, 3, 4, 5, 6]"
      ]
     },
     "execution_count": 7,
     "metadata": {},
     "output_type": "execute_result"
    }
   ],
   "source": [
    "given_list_to_sort = [1,2,3,4,5,6,-1,-2,-3,-4,-5,0]\n",
    "\n",
    "list(sorted(given_list_to_sort))"
   ]
  },
  {
   "cell_type": "code",
   "execution_count": null,
   "id": "89cf7e59-3cbe-41b5-bfe2-cfac0bb02dcd",
   "metadata": {},
   "outputs": [],
   "source": []
  }
 ],
 "metadata": {
  "kernelspec": {
   "display_name": "Python 3 (ipykernel)",
   "language": "python",
   "name": "python3"
  },
  "language_info": {
   "codemirror_mode": {
    "name": "ipython",
    "version": 3
   },
   "file_extension": ".py",
   "mimetype": "text/x-python",
   "name": "python",
   "nbconvert_exporter": "python",
   "pygments_lexer": "ipython3",
   "version": "3.10.8"
  }
 },
 "nbformat": 4,
 "nbformat_minor": 5
}
