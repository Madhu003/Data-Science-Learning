{
 "cells": [
  {
   "cell_type": "markdown",
   "id": "597d1cb1-9f7c-43b9-b6d2-471259484b7f",
   "metadata": {},
   "source": [
    "### Question 1."
   ]
  },
  {
   "cell_type": "markdown",
   "id": "ef43d70f-e033-42dc-a87a-b6cd2db08afb",
   "metadata": {},
   "source": [
    "##### Database is a collection of properly formatted data which can be managed in prominent way so during that we can perform CRUD operation.\n",
    "\n",
    "##### SQL means structured Query Language and for SQL database we need to use SQL queries to communicate with database. Its a relational database with have functionality of creating tables (a list of records) whic have rows and that table can connect with other table to show a raltaionship between each other. \n",
    "\n",
    "##### NoSQL means **not only SQL** so there are databased which can other formates for data storage like hierarchical strtucture. "
   ]
  },
  {
   "cell_type": "markdown",
   "id": "1c8f446e-e7c2-4418-a646-60ee200b1848",
   "metadata": {
    "tags": []
   },
   "source": [
    "### Question 2."
   ]
  },
  {
   "cell_type": "markdown",
   "id": "54f1b29d-7ad4-412d-b730-98b50751443d",
   "metadata": {},
   "source": [
    "#### **DDL** stands for Data Defination Language, its part of SQL query where that that is use to change the structure of databse like change table name or adding column or changing something in indexes etc.\n",
    "\n",
    "##### **CREATE** - that is use to create databse or table\n",
    "##### 1. CREATE DATABASE test\n",
    "##### 2. CREATE TABLE new_table(c1 VARCHAR(50), c2 INT) \n",
    "\n",
    "##### **DROP** - that is use to frop the whole table means data & structure (means with indexes) of table\n",
    "##### 1. DROP TABLE new_table;\n",
    "\n",
    "##### **ALTER** - alter is use to change the structure of table like add, update or delete column of table\n",
    "##### 1. ALTER TABLE Customers ADD Email varchar(255);\n",
    "##### 2. ALTER TABLE table_name RENAME COLUMN old_name to new_name;\n",
    "\n",
    "##### **TRUNCATE** - its little bit different from DROP here only records of table will be removed table strcture and indexes will remain same\n",
    "##### 1. TRUNCATE TABLE Categories;"
   ]
  },
  {
   "cell_type": "markdown",
   "id": "fa66e97e-2816-498a-8136-9f143eb4051f",
   "metadata": {
    "tags": []
   },
   "source": [
    "### Question 3."
   ]
  },
  {
   "cell_type": "markdown",
   "id": "f789a58b-ad3c-449b-8c5f-5bff53996642",
   "metadata": {},
   "source": [
    "#### **DML** stands for Data Manipulation Language which use to do changes of data in table.\n",
    "\n",
    "##### **INSERT** - that is use to create record or row in table\n",
    "##### 1. INSERT INTO table_name (c1, c2) VALUES (\"Madhu\", 26) -- here need to specify column name \n",
    "##### 2. INSERT INTO table_name VALUES (\"Madhu\", 26) -- here need to maintain order os column\n",
    "\n",
    "##### **UPDATE** - that is use to update record or row in table\n",
    "##### 1. UPDATE table_name SET c1 = \"Sudan\", c2 = 27 WHERE c1 = \"Madhu\";\n",
    "\n",
    "##### **DELETE** - that is use to delete record or row in table\n",
    "##### 1. DELETE table_name WHERE c1 = \"Madhu\";"
   ]
  },
  {
   "cell_type": "markdown",
   "id": "ff8ec851-4eb0-4e39-96be-e3a9f87a801f",
   "metadata": {
    "tags": []
   },
   "source": [
    "### Question 4."
   ]
  },
  {
   "cell_type": "markdown",
   "id": "7300fc35-3858-4369-b489-2fa1810b254a",
   "metadata": {},
   "source": [
    "#### **DQL** stands for Data QUERY Language which use to do get data form database by querying to database asking question to database & wo get results in answer.\n",
    "\n",
    "##### **SELECT** - that is use to select records from table(s) as query.\n",
    "##### SELECT * from table_name WHERE c1 = \"Madhu\""
   ]
  },
  {
   "cell_type": "markdown",
   "id": "ba66fae8-cd89-4aab-b404-e881e227f2b2",
   "metadata": {
    "tags": []
   },
   "source": [
    "### Question 5."
   ]
  },
  {
   "cell_type": "markdown",
   "id": "7ac7b806-5d50-45ac-bdc0-043baf126807",
   "metadata": {},
   "source": [
    "##### **Primary Key** is a kind od indexing which is required to make a record unique in table that primary is also important to make relation which other  table because that is use to create frokey in othre table.\n",
    "\n",
    "##### CREATE TABLE table_name1 (\n",
    "#####   customer_id INT AUTO_INCREMENT PRIMARY KEY,\n",
    "#####   first_name VARCHAR(50),\n",
    "#####   last_name VARCHAR(50),\n",
    "#####   email VARCHAR(100),\n",
    "#####   phone VARCHAR(20)\n",
    "##### );\n",
    "\n",
    "##### **Foriegn Key** that is use in second table to which we are making relationship with. That will be primary key of some other table.\n",
    "\n",
    "##### CREATE TABLE table_name2 (\n",
    "#####   order_id INT AUTO_INCREMENT PRIMARY KEY,\n",
    "#####   customer_id INT,\n",
    "#####   order_date DATE,\n",
    "#####   FOREIGN KEY (customer_id) REFERENCES table_name1(customer_id)\n",
    "##### );"
   ]
  },
  {
   "cell_type": "markdown",
   "id": "78ab44ef-bb2f-40ba-9afe-5a49e5464eb0",
   "metadata": {
    "tags": []
   },
   "source": [
    "### Question 6."
   ]
  },
  {
   "cell_type": "code",
   "execution_count": null,
   "id": "5e45db20-3536-48aa-808d-9fe6b71989aa",
   "metadata": {},
   "outputs": [],
   "source": [
    "import mysql.connector\n",
    "mydb = mysql.connector.connect(\n",
    "  host=\"localhost\",\n",
    "  user=\"abc\",\n",
    "  password=\"password\"\n",
    ")\n",
    "mycursor = mydb.cursor()\n",
    "mycursor.execute(\"select c1 ,c5 from test1.test_table\")\n",
    "for i in mycursor.fetchall():\n",
    "    print(i)"
   ]
  },
  {
   "cell_type": "markdown",
   "id": "aacc2103-c095-44c0-9d81-96cc92f7b8f4",
   "metadata": {},
   "source": [
    "##### In laymen term **cursor** is a pointer which is used to mark current position and as in database we have lots of record that helps to travel in between & track where we are right noe. In python cursor() method help to excute sql queries & also helps o travel in that resulted records which we got from excuted query.\n",
    "\n",
    "##### **execute** provide a feature to perform SQL operation in python."
   ]
  },
  {
   "cell_type": "markdown",
   "id": "3e86c217-1c49-4d8c-9af1-3b5bd4750c12",
   "metadata": {
    "tags": []
   },
   "source": [
    "### Question 7."
   ]
  },
  {
   "cell_type": "markdown",
   "id": "4c5e714e-4869-414f-a433-411197d112cf",
   "metadata": {},
   "source": [
    "##### FROM -> JOIN -> WHERE -> GROUP BY -> HAVING -> SELECT -> DISTINCT -> ORDER BY -> LIMIT\n",
    "\n",
    "##### **FROM** this is use to specify table from which we start to process data.\n",
    "##### **JOIN** this is use to join two tables by foriegn key.\n",
    "##### **WHERE** this is use to filter record with a perticular condition.\n",
    "##### **GROUP BY** this is use to group by perticular column or attribute.\n",
    "##### **HAVING** this is use to groups with a perticular condition.\n",
    "##### **SELECT** this is use to specify columns which we need as a result.\n",
    "##### **DISTINCT** this is use to make list unique with respect to perticular column.\n",
    "##### **ORDER BY** this is use to sort the result.\n",
    "##### **LIMIT** this is use to fetch fix number of records normally used for pagination in web.\n"
   ]
  },
  {
   "cell_type": "code",
   "execution_count": null,
   "id": "279b3f50-26c8-4510-897e-c1c839be57b7",
   "metadata": {},
   "outputs": [],
   "source": []
  },
  {
   "cell_type": "code",
   "execution_count": null,
   "id": "e547963f-e48f-4e5b-926e-2be29fbfca85",
   "metadata": {},
   "outputs": [],
   "source": []
  },
  {
   "cell_type": "code",
   "execution_count": null,
   "id": "ec0b50bc-878e-4597-9d74-e57de83578cc",
   "metadata": {},
   "outputs": [],
   "source": []
  },
  {
   "cell_type": "code",
   "execution_count": null,
   "id": "d6b7ff35-216a-49cd-871a-6119b6a9ef02",
   "metadata": {},
   "outputs": [],
   "source": []
  }
 ],
 "metadata": {
  "kernelspec": {
   "display_name": "Python 3 (ipykernel)",
   "language": "python",
   "name": "python3"
  },
  "language_info": {
   "codemirror_mode": {
    "name": "ipython",
    "version": 3
   },
   "file_extension": ".py",
   "mimetype": "text/x-python",
   "name": "python",
   "nbconvert_exporter": "python",
   "pygments_lexer": "ipython3",
   "version": "3.10.8"
  }
 },
 "nbformat": 4,
 "nbformat_minor": 5
}
