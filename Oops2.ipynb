{
 "cells": [
  {
   "cell_type": "markdown",
   "id": "5e8b54dd-4f65-45aa-95e6-f83faf9a98e8",
   "metadata": {},
   "source": [
    "### Question 1."
   ]
  },
  {
   "cell_type": "code",
   "execution_count": 1,
   "id": "8dbab694-81ff-4992-82e2-8bb3a94a3fbb",
   "metadata": {},
   "outputs": [],
   "source": [
    "class Vehicle:\n",
    "    \n",
    "    def __init__(self, name_of_vehicle, max_speed, average_of_vehicle):\n",
    "        self.name_of_vehicle = name_of_vehicle\n",
    "        self.max_speed = max_speed\n",
    "        self.average_of_vehicle = average_of_vehicle        "
   ]
  },
  {
   "cell_type": "markdown",
   "id": "1026faae-bdec-4d89-ac7e-b569fe641786",
   "metadata": {},
   "source": [
    "### Question 2."
   ]
  },
  {
   "cell_type": "code",
   "execution_count": 2,
   "id": "7cd50587-2501-4022-8970-916ade96d633",
   "metadata": {},
   "outputs": [],
   "source": [
    "class Car(Vehicle):\n",
    "    \n",
    "    def seating_capacity(self, capacity):\n",
    "        self.capacity = capacity\n",
    "        return self.name_of_vehicle, capacity"
   ]
  },
  {
   "cell_type": "code",
   "execution_count": 5,
   "id": "3b16e14d-098e-463b-ab67-11c9533554b6",
   "metadata": {},
   "outputs": [
    {
     "data": {
      "text/plain": [
       "('Alto', 5)"
      ]
     },
     "execution_count": 5,
     "metadata": {},
     "output_type": "execute_result"
    }
   ],
   "source": [
    "car_object = Car(\"Alto\", 120, 30)\n",
    "\n",
    "car_object.seating_capacity(5)"
   ]
  },
  {
   "cell_type": "markdown",
   "id": "5b4e4c1d-02cf-402b-aaf6-eccc2c8911f0",
   "metadata": {},
   "source": [
    "### Question 3."
   ]
  },
  {
   "cell_type": "code",
   "execution_count": 8,
   "id": "e6001e08-a4a2-4a9a-8b86-fd2c8cf3ca39",
   "metadata": {},
   "outputs": [
    {
     "name": "stdout",
     "output_type": "stream",
     "text": [
      "from_class_a\n",
      "from_class_b\n"
     ]
    }
   ],
   "source": [
    "class A:\n",
    "    def from_class_a(self):\n",
    "        print(\"from_class_a\")\n",
    "        \n",
    "class B:\n",
    "    def from_class_b(self):\n",
    "        print(\"from_class_b\") \n",
    "        \n",
    "class C(A, B):\n",
    "    def __init__(self):\n",
    "        self.from_class_a()\n",
    "        self.from_class_b()\n",
    "        \n",
    "c_obj = C()        "
   ]
  },
  {
   "cell_type": "markdown",
   "id": "6ed545a3-7ecc-43ab-b1c9-4d13cc055da7",
   "metadata": {},
   "source": [
    "### Question 4."
   ]
  },
  {
   "cell_type": "markdown",
   "id": "5a55e2e4-829c-4ae9-b4f6-1c0e7e1beb40",
   "metadata": {},
   "source": [
    "##### Geeter to get value from private instance variable & setter to set value that is used to encapsulate the class. "
   ]
  },
  {
   "cell_type": "code",
   "execution_count": 10,
   "id": "22e62c45-8fe0-4190-a12f-49e8f28a7a83",
   "metadata": {},
   "outputs": [
    {
     "name": "stdout",
     "output_type": "stream",
     "text": [
      "10\n",
      "20\n"
     ]
    }
   ],
   "source": [
    "class Test1:\n",
    "    \n",
    "    def __init__(self, private_value1, private_value2):\n",
    "        self.__private_value1 = private_value1\n",
    "        self.__private_value2 = private_value2\n",
    "    \n",
    "    def get_private_value1(self):\n",
    "        return self.__private_value1 * 2\n",
    "    \n",
    "    def set_private_value1(self, value):\n",
    "        self.__private_value1 = int(value / 2)\n",
    "        \n",
    "test1 = Test1(5, 10)      \n",
    "print(test1.get_private_value1())\n",
    "\n",
    "test1.set_private_value1(20)\n",
    "print(test1.get_private_value1())\n"
   ]
  },
  {
   "cell_type": "markdown",
   "id": "2bd5ccb1-87c0-483c-b1df-66006d289a10",
   "metadata": {},
   "source": [
    "### Question 5."
   ]
  },
  {
   "cell_type": "code",
   "execution_count": 12,
   "id": "b79d6582-3199-42ee-a853-7a822cc52512",
   "metadata": {},
   "outputs": [
    {
     "name": "stdout",
     "output_type": "stream",
     "text": [
      "show method from class X\n",
      "show method from class y\n"
     ]
    }
   ],
   "source": [
    "class X:    \n",
    "    def show(self):\n",
    "        print(\"show method from class X\")\n",
    "        \n",
    "class Y(X):\n",
    "    \n",
    "    def show(self):\n",
    "        print(\"show method from class y\")\n",
    "        \n",
    "x_obj = X()\n",
    "y_obj = Y()\n",
    "\n",
    "x_obj.show()\n",
    "y_obj.show() # here show method of class Y overriding show we are getting o/p of class not class X"
   ]
  },
  {
   "cell_type": "code",
   "execution_count": null,
   "id": "e0653d8c-5ef5-4e46-816f-bff1f9b26b8d",
   "metadata": {},
   "outputs": [],
   "source": []
  }
 ],
 "metadata": {
  "kernelspec": {
   "display_name": "Python 3 (ipykernel)",
   "language": "python",
   "name": "python3"
  },
  "language_info": {
   "codemirror_mode": {
    "name": "ipython",
    "version": 3
   },
   "file_extension": ".py",
   "mimetype": "text/x-python",
   "name": "python",
   "nbconvert_exporter": "python",
   "pygments_lexer": "ipython3",
   "version": "3.10.8"
  }
 },
 "nbformat": 4,
 "nbformat_minor": 5
}
