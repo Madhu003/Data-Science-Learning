{
 "cells": [
  {
   "cell_type": "code",
   "execution_count": 71,
   "id": "1683a15a-b37c-4216-9f08-448ea1f3d633",
   "metadata": {},
   "outputs": [],
   "source": [
    "# https://drive.google.com/file/d/1RHLwrS-c5sPgr-TmK_cafpWb91ZlvU5Y/view\n",
    "import pandas as pd"
   ]
  },
  {
   "cell_type": "markdown",
   "id": "23500013-620f-47cf-b451-5cd1a3a2150e",
   "metadata": {
    "jp-MarkdownHeadingCollapsed": true,
    "tags": []
   },
   "source": [
    "### Question 1."
   ]
  },
  {
   "cell_type": "markdown",
   "id": "0518856a-c946-4901-9035-1459dcd4006f",
   "metadata": {},
   "source": [
    "1. pd.DataFrame()"
   ]
  },
  {
   "cell_type": "code",
   "execution_count": 13,
   "id": "06a6946e-b198-457f-96a1-3074e633967f",
   "metadata": {},
   "outputs": [],
   "source": [
    "df = pd.DataFrame({ \"a\": [1,2,3,5], \"b\": [9,8,7,6] })"
   ]
  },
  {
   "cell_type": "markdown",
   "id": "6a57e972-e9f9-4bc3-bd9c-c8adec10a941",
   "metadata": {},
   "source": [
    "2. pd.Series()"
   ]
  },
  {
   "cell_type": "code",
   "execution_count": 7,
   "id": "b2200e8e-b093-4151-b471-6f991224e320",
   "metadata": {},
   "outputs": [
    {
     "data": {
      "text/plain": [
       "0     2\n",
       "1     4\n",
       "2     6\n",
       "3     8\n",
       "4    10\n",
       "dtype: int64"
      ]
     },
     "execution_count": 7,
     "metadata": {},
     "output_type": "execute_result"
    }
   ],
   "source": [
    "pd.Series([2,4,6,8,10])"
   ]
  },
  {
   "cell_type": "markdown",
   "id": "867f5fa4-fd87-4131-be8f-d109fda7a248",
   "metadata": {},
   "source": [
    "3. pd.head()"
   ]
  },
  {
   "cell_type": "code",
   "execution_count": 14,
   "id": "ab49286a-8569-4698-8ef1-957cd44241d9",
   "metadata": {},
   "outputs": [
    {
     "data": {
      "text/html": [
       "<div>\n",
       "<style scoped>\n",
       "    .dataframe tbody tr th:only-of-type {\n",
       "        vertical-align: middle;\n",
       "    }\n",
       "\n",
       "    .dataframe tbody tr th {\n",
       "        vertical-align: top;\n",
       "    }\n",
       "\n",
       "    .dataframe thead th {\n",
       "        text-align: right;\n",
       "    }\n",
       "</style>\n",
       "<table border=\"1\" class=\"dataframe\">\n",
       "  <thead>\n",
       "    <tr style=\"text-align: right;\">\n",
       "      <th></th>\n",
       "      <th>a</th>\n",
       "      <th>b</th>\n",
       "    </tr>\n",
       "  </thead>\n",
       "  <tbody>\n",
       "    <tr>\n",
       "      <th>0</th>\n",
       "      <td>1</td>\n",
       "      <td>9</td>\n",
       "    </tr>\n",
       "    <tr>\n",
       "      <th>1</th>\n",
       "      <td>2</td>\n",
       "      <td>8</td>\n",
       "    </tr>\n",
       "    <tr>\n",
       "      <th>2</th>\n",
       "      <td>3</td>\n",
       "      <td>7</td>\n",
       "    </tr>\n",
       "    <tr>\n",
       "      <th>3</th>\n",
       "      <td>5</td>\n",
       "      <td>6</td>\n",
       "    </tr>\n",
       "  </tbody>\n",
       "</table>\n",
       "</div>"
      ],
      "text/plain": [
       "   a  b\n",
       "0  1  9\n",
       "1  2  8\n",
       "2  3  7\n",
       "3  5  6"
      ]
     },
     "execution_count": 14,
     "metadata": {},
     "output_type": "execute_result"
    }
   ],
   "source": [
    "df.head()"
   ]
  },
  {
   "cell_type": "markdown",
   "id": "1b23cc86-9067-43df-a37d-41f15d849ea9",
   "metadata": {},
   "source": [
    "4. pd.describe()"
   ]
  },
  {
   "cell_type": "code",
   "execution_count": 15,
   "id": "44b3fe3c-2651-489a-a737-ce31ecf270c1",
   "metadata": {},
   "outputs": [
    {
     "data": {
      "text/html": [
       "<div>\n",
       "<style scoped>\n",
       "    .dataframe tbody tr th:only-of-type {\n",
       "        vertical-align: middle;\n",
       "    }\n",
       "\n",
       "    .dataframe tbody tr th {\n",
       "        vertical-align: top;\n",
       "    }\n",
       "\n",
       "    .dataframe thead th {\n",
       "        text-align: right;\n",
       "    }\n",
       "</style>\n",
       "<table border=\"1\" class=\"dataframe\">\n",
       "  <thead>\n",
       "    <tr style=\"text-align: right;\">\n",
       "      <th></th>\n",
       "      <th>a</th>\n",
       "      <th>b</th>\n",
       "    </tr>\n",
       "  </thead>\n",
       "  <tbody>\n",
       "    <tr>\n",
       "      <th>count</th>\n",
       "      <td>4.000000</td>\n",
       "      <td>4.000000</td>\n",
       "    </tr>\n",
       "    <tr>\n",
       "      <th>mean</th>\n",
       "      <td>2.750000</td>\n",
       "      <td>7.500000</td>\n",
       "    </tr>\n",
       "    <tr>\n",
       "      <th>std</th>\n",
       "      <td>1.707825</td>\n",
       "      <td>1.290994</td>\n",
       "    </tr>\n",
       "    <tr>\n",
       "      <th>min</th>\n",
       "      <td>1.000000</td>\n",
       "      <td>6.000000</td>\n",
       "    </tr>\n",
       "    <tr>\n",
       "      <th>25%</th>\n",
       "      <td>1.750000</td>\n",
       "      <td>6.750000</td>\n",
       "    </tr>\n",
       "    <tr>\n",
       "      <th>50%</th>\n",
       "      <td>2.500000</td>\n",
       "      <td>7.500000</td>\n",
       "    </tr>\n",
       "    <tr>\n",
       "      <th>75%</th>\n",
       "      <td>3.500000</td>\n",
       "      <td>8.250000</td>\n",
       "    </tr>\n",
       "    <tr>\n",
       "      <th>max</th>\n",
       "      <td>5.000000</td>\n",
       "      <td>9.000000</td>\n",
       "    </tr>\n",
       "  </tbody>\n",
       "</table>\n",
       "</div>"
      ],
      "text/plain": [
       "              a         b\n",
       "count  4.000000  4.000000\n",
       "mean   2.750000  7.500000\n",
       "std    1.707825  1.290994\n",
       "min    1.000000  6.000000\n",
       "25%    1.750000  6.750000\n",
       "50%    2.500000  7.500000\n",
       "75%    3.500000  8.250000\n",
       "max    5.000000  9.000000"
      ]
     },
     "execution_count": 15,
     "metadata": {},
     "output_type": "execute_result"
    }
   ],
   "source": [
    "df.describe()"
   ]
  },
  {
   "cell_type": "markdown",
   "id": "58cdf777-9c13-4830-9ccd-c857cf00a141",
   "metadata": {},
   "source": [
    "5. df.groupby()"
   ]
  },
  {
   "cell_type": "code",
   "execution_count": 17,
   "id": "67d403b2-1706-4f4f-a5bd-b5241b5638e9",
   "metadata": {},
   "outputs": [
    {
     "data": {
      "text/plain": [
       "[(1,\n",
       "     a  b\n",
       "  0  1  9),\n",
       " (2,\n",
       "     a  b\n",
       "  1  2  8),\n",
       " (3,\n",
       "     a  b\n",
       "  2  3  7),\n",
       " (5,\n",
       "     a  b\n",
       "  3  5  6)]"
      ]
     },
     "execution_count": 17,
     "metadata": {},
     "output_type": "execute_result"
    }
   ],
   "source": [
    "list(df.groupby('a'))"
   ]
  },
  {
   "cell_type": "markdown",
   "id": "c98403b2-8f35-478c-a96a-d2005fa854e7",
   "metadata": {
    "jp-MarkdownHeadingCollapsed": true,
    "tags": []
   },
   "source": [
    "### Question 2."
   ]
  },
  {
   "cell_type": "code",
   "execution_count": 18,
   "id": "a72c6579-e1f5-4041-8362-bf4786501920",
   "metadata": {},
   "outputs": [],
   "source": [
    "df1 = pd.DataFrame({ \"a\": [1,2,3,5], \"b\": [9,8,7,6], \"c\": [10, 11, 12, 13] })"
   ]
  },
  {
   "cell_type": "code",
   "execution_count": 21,
   "id": "c887cd77-4d9c-48c2-9f9c-a142cbc5bcac",
   "metadata": {},
   "outputs": [
    {
     "name": "stdout",
     "output_type": "stream",
     "text": [
      "   a  b   c\n",
      "1  1  9  10\n",
      "3  2  8  11\n",
      "5  3  7  12\n",
      "7  5  6  13\n"
     ]
    }
   ],
   "source": [
    "new_index = pd.RangeIndex(start=1, step=2, stop=len(df1)*2)\n",
    "new_df = df1.set_index(new_index)\n",
    "\n",
    "print(new_df)"
   ]
  },
  {
   "cell_type": "markdown",
   "id": "1ad443fa-1f2e-41e4-95c6-62e93e06a664",
   "metadata": {
    "jp-MarkdownHeadingCollapsed": true,
    "tags": []
   },
   "source": [
    "### Question 3."
   ]
  },
  {
   "cell_type": "code",
   "execution_count": 3,
   "id": "f36214fa-5383-4a2d-9aec-ea39908918a5",
   "metadata": {},
   "outputs": [],
   "source": [
    "df3 = pd.DataFrame({ \"Values\": [10, 20, 30, 40, 50]})"
   ]
  },
  {
   "cell_type": "code",
   "execution_count": 10,
   "id": "9d88b96a-e922-4405-9122-410db2e81763",
   "metadata": {},
   "outputs": [
    {
     "data": {
      "text/plain": [
       "60"
      ]
     },
     "execution_count": 10,
     "metadata": {},
     "output_type": "execute_result"
    }
   ],
   "source": [
    "df3['Values'][0:3].sum()"
   ]
  },
  {
   "cell_type": "markdown",
   "id": "ee5ecf3b-0d32-4974-91ca-269907a5afa0",
   "metadata": {
    "jp-MarkdownHeadingCollapsed": true,
    "tags": []
   },
   "source": [
    "### Question 4."
   ]
  },
  {
   "cell_type": "code",
   "execution_count": 14,
   "id": "5b4063e7-de45-4e7e-a170-75d462ffe289",
   "metadata": {},
   "outputs": [],
   "source": [
    "df4 = pd.DataFrame({ \"Text\": [\"Madhu\", \"Sudan\", \"Soni\"]})"
   ]
  },
  {
   "cell_type": "code",
   "execution_count": 20,
   "id": "cf3b7981-6cde-47a6-9e02-664246cc3c1c",
   "metadata": {},
   "outputs": [],
   "source": [
    "df4['Word_Count'] = [len(data) for data in df4[\"Text\"]]\n"
   ]
  },
  {
   "cell_type": "code",
   "execution_count": 21,
   "id": "b278800b-9417-49aa-864b-ee2f38331988",
   "metadata": {},
   "outputs": [
    {
     "data": {
      "text/html": [
       "<div>\n",
       "<style scoped>\n",
       "    .dataframe tbody tr th:only-of-type {\n",
       "        vertical-align: middle;\n",
       "    }\n",
       "\n",
       "    .dataframe tbody tr th {\n",
       "        vertical-align: top;\n",
       "    }\n",
       "\n",
       "    .dataframe thead th {\n",
       "        text-align: right;\n",
       "    }\n",
       "</style>\n",
       "<table border=\"1\" class=\"dataframe\">\n",
       "  <thead>\n",
       "    <tr style=\"text-align: right;\">\n",
       "      <th></th>\n",
       "      <th>Text</th>\n",
       "      <th>Word_Count</th>\n",
       "    </tr>\n",
       "  </thead>\n",
       "  <tbody>\n",
       "    <tr>\n",
       "      <th>0</th>\n",
       "      <td>Madhu</td>\n",
       "      <td>5</td>\n",
       "    </tr>\n",
       "    <tr>\n",
       "      <th>1</th>\n",
       "      <td>Sudan</td>\n",
       "      <td>5</td>\n",
       "    </tr>\n",
       "    <tr>\n",
       "      <th>2</th>\n",
       "      <td>Soni</td>\n",
       "      <td>4</td>\n",
       "    </tr>\n",
       "  </tbody>\n",
       "</table>\n",
       "</div>"
      ],
      "text/plain": [
       "    Text  Word_Count\n",
       "0  Madhu           5\n",
       "1  Sudan           5\n",
       "2   Soni           4"
      ]
     },
     "execution_count": 21,
     "metadata": {},
     "output_type": "execute_result"
    }
   ],
   "source": [
    "df4"
   ]
  },
  {
   "cell_type": "markdown",
   "id": "20762a96-a6f9-4dc4-b286-e7ecd070b50e",
   "metadata": {
    "jp-MarkdownHeadingCollapsed": true,
    "tags": []
   },
   "source": [
    "### Question 5."
   ]
  },
  {
   "cell_type": "code",
   "execution_count": 22,
   "id": "4f78e6e3-c1c5-4895-9b99-6809e027df34",
   "metadata": {},
   "outputs": [],
   "source": [
    "df5 = pd.DataFrame({ \"a\": [\"Madhu\", \"Sudan\", \"Soni\"], \"b\": [\"Aryan\", \"Soni\", \"\"]})"
   ]
  },
  {
   "cell_type": "markdown",
   "id": "3868dbd2-a38a-4dd0-aeb0-3cad0c461306",
   "metadata": {},
   "source": [
    "1. DataFrame.size() given count of all fields, means 2 columns & 3 rows will be 2 * 3 = 6"
   ]
  },
  {
   "cell_type": "code",
   "execution_count": 28,
   "id": "eca86591-8fbb-484c-b801-71680c0c0114",
   "metadata": {},
   "outputs": [
    {
     "data": {
      "text/plain": [
       "6"
      ]
     },
     "execution_count": 28,
     "metadata": {},
     "output_type": "execute_result"
    }
   ],
   "source": [
    "df5.size "
   ]
  },
  {
   "cell_type": "markdown",
   "id": "7e7e00e8-dbe8-46d8-b585-c965ce12db2f",
   "metadata": {},
   "source": [
    "2. DataFrame.shape()returns a tuple with no. of row & column"
   ]
  },
  {
   "cell_type": "code",
   "execution_count": 29,
   "id": "2d6c4dfb-0211-40d1-b45b-c6915c0f8751",
   "metadata": {},
   "outputs": [
    {
     "data": {
      "text/plain": [
       "(3, 2)"
      ]
     },
     "execution_count": 29,
     "metadata": {},
     "output_type": "execute_result"
    }
   ],
   "source": [
    "df5.shape"
   ]
  },
  {
   "cell_type": "markdown",
   "id": "cd93348f-c26f-4c50-a723-a3f381e5a629",
   "metadata": {
    "jp-MarkdownHeadingCollapsed": true,
    "tags": []
   },
   "source": [
    "### Question 6."
   ]
  },
  {
   "cell_type": "code",
   "execution_count": 34,
   "id": "578f612a-b96d-4458-8aba-df5346532285",
   "metadata": {},
   "outputs": [
    {
     "data": {
      "text/html": [
       "<div>\n",
       "<style scoped>\n",
       "    .dataframe tbody tr th:only-of-type {\n",
       "        vertical-align: middle;\n",
       "    }\n",
       "\n",
       "    .dataframe tbody tr th {\n",
       "        vertical-align: top;\n",
       "    }\n",
       "\n",
       "    .dataframe thead th {\n",
       "        text-align: right;\n",
       "    }\n",
       "</style>\n",
       "<table border=\"1\" class=\"dataframe\">\n",
       "  <thead>\n",
       "    <tr style=\"text-align: right;\">\n",
       "      <th></th>\n",
       "      <th>Order ID</th>\n",
       "      <th>Order Date</th>\n",
       "      <th>Order Quantity</th>\n",
       "      <th>Sales</th>\n",
       "      <th>Ship Mode</th>\n",
       "      <th>Profit</th>\n",
       "      <th>Unit Price</th>\n",
       "      <th>Customer Name</th>\n",
       "      <th>Customer Segment</th>\n",
       "      <th>Product Category</th>\n",
       "    </tr>\n",
       "  </thead>\n",
       "  <tbody>\n",
       "    <tr>\n",
       "      <th>0</th>\n",
       "      <td>3</td>\n",
       "      <td>2010-10-13</td>\n",
       "      <td>6</td>\n",
       "      <td>261.5400</td>\n",
       "      <td>Regular Air</td>\n",
       "      <td>-213.250</td>\n",
       "      <td>38.94</td>\n",
       "      <td>Muhammed MacIntyre</td>\n",
       "      <td>Small Business</td>\n",
       "      <td>Office Supplies</td>\n",
       "    </tr>\n",
       "    <tr>\n",
       "      <th>1</th>\n",
       "      <td>6</td>\n",
       "      <td>2012-02-20</td>\n",
       "      <td>2</td>\n",
       "      <td>6.9300</td>\n",
       "      <td>Regular Air</td>\n",
       "      <td>-4.640</td>\n",
       "      <td>2.08</td>\n",
       "      <td>Ruben Dartt</td>\n",
       "      <td>Corporate</td>\n",
       "      <td>Office Supplies</td>\n",
       "    </tr>\n",
       "    <tr>\n",
       "      <th>2</th>\n",
       "      <td>32</td>\n",
       "      <td>2011-07-15</td>\n",
       "      <td>26</td>\n",
       "      <td>2808.0800</td>\n",
       "      <td>Regular Air</td>\n",
       "      <td>1054.820</td>\n",
       "      <td>107.53</td>\n",
       "      <td>Liz Pelletier</td>\n",
       "      <td>Corporate</td>\n",
       "      <td>Furniture</td>\n",
       "    </tr>\n",
       "    <tr>\n",
       "      <th>3</th>\n",
       "      <td>32</td>\n",
       "      <td>2011-07-15</td>\n",
       "      <td>24</td>\n",
       "      <td>1761.4000</td>\n",
       "      <td>Delivery Truck</td>\n",
       "      <td>-1748.560</td>\n",
       "      <td>70.89</td>\n",
       "      <td>Liz Pelletier</td>\n",
       "      <td>Corporate</td>\n",
       "      <td>Furniture</td>\n",
       "    </tr>\n",
       "    <tr>\n",
       "      <th>4</th>\n",
       "      <td>32</td>\n",
       "      <td>2011-07-15</td>\n",
       "      <td>23</td>\n",
       "      <td>160.2335</td>\n",
       "      <td>Regular Air</td>\n",
       "      <td>-85.129</td>\n",
       "      <td>7.99</td>\n",
       "      <td>Liz Pelletier</td>\n",
       "      <td>Corporate</td>\n",
       "      <td>Technology</td>\n",
       "    </tr>\n",
       "  </tbody>\n",
       "</table>\n",
       "</div>"
      ],
      "text/plain": [
       "   Order ID Order Date  Order Quantity      Sales       Ship Mode    Profit  \\\n",
       "0         3 2010-10-13               6   261.5400     Regular Air  -213.250   \n",
       "1         6 2012-02-20               2     6.9300     Regular Air    -4.640   \n",
       "2        32 2011-07-15              26  2808.0800     Regular Air  1054.820   \n",
       "3        32 2011-07-15              24  1761.4000  Delivery Truck -1748.560   \n",
       "4        32 2011-07-15              23   160.2335     Regular Air   -85.129   \n",
       "\n",
       "   Unit Price       Customer Name Customer Segment Product Category  \n",
       "0       38.94  Muhammed MacIntyre   Small Business  Office Supplies  \n",
       "1        2.08         Ruben Dartt        Corporate  Office Supplies  \n",
       "2      107.53       Liz Pelletier        Corporate        Furniture  \n",
       "3       70.89       Liz Pelletier        Corporate        Furniture  \n",
       "4        7.99       Liz Pelletier        Corporate       Technology  "
      ]
     },
     "execution_count": 34,
     "metadata": {},
     "output_type": "execute_result"
    }
   ],
   "source": [
    "df6 = pd.read_excel(\"./files/Orders-With Nulls.xlsx\")\n",
    "df6.head()"
   ]
  },
  {
   "cell_type": "markdown",
   "id": "339cc1ba-e629-4a07-98b2-2c81643ad715",
   "metadata": {
    "jp-MarkdownHeadingCollapsed": true,
    "tags": []
   },
   "source": [
    "### Question 7."
   ]
  },
  {
   "cell_type": "code",
   "execution_count": 41,
   "id": "221a2d04-1232-4413-8bf3-b4ec0fc1fc9b",
   "metadata": {},
   "outputs": [],
   "source": [
    "df7 = pd.DataFrame({'Email':[\"madhu@gmail.com\", \"aryan@gmail.com\", \"soni@gmail.com\"]})"
   ]
  },
  {
   "cell_type": "code",
   "execution_count": 42,
   "id": "3b62cd6e-8872-42d1-b67e-fe64b7ebb9b8",
   "metadata": {},
   "outputs": [],
   "source": [
    "df7[\"username\"] = [email.split(\"@\")[0] for email in df7[\"Email\"]]"
   ]
  },
  {
   "cell_type": "code",
   "execution_count": 43,
   "id": "ebd5be98-6660-4817-ae15-e9110e97841b",
   "metadata": {},
   "outputs": [
    {
     "data": {
      "text/html": [
       "<div>\n",
       "<style scoped>\n",
       "    .dataframe tbody tr th:only-of-type {\n",
       "        vertical-align: middle;\n",
       "    }\n",
       "\n",
       "    .dataframe tbody tr th {\n",
       "        vertical-align: top;\n",
       "    }\n",
       "\n",
       "    .dataframe thead th {\n",
       "        text-align: right;\n",
       "    }\n",
       "</style>\n",
       "<table border=\"1\" class=\"dataframe\">\n",
       "  <thead>\n",
       "    <tr style=\"text-align: right;\">\n",
       "      <th></th>\n",
       "      <th>Email</th>\n",
       "      <th>username</th>\n",
       "    </tr>\n",
       "  </thead>\n",
       "  <tbody>\n",
       "    <tr>\n",
       "      <th>0</th>\n",
       "      <td>madhu@gmail.com</td>\n",
       "      <td>madhu</td>\n",
       "    </tr>\n",
       "    <tr>\n",
       "      <th>1</th>\n",
       "      <td>aryan@gmail.com</td>\n",
       "      <td>aryan</td>\n",
       "    </tr>\n",
       "    <tr>\n",
       "      <th>2</th>\n",
       "      <td>soni@gmail.com</td>\n",
       "      <td>soni</td>\n",
       "    </tr>\n",
       "  </tbody>\n",
       "</table>\n",
       "</div>"
      ],
      "text/plain": [
       "             Email username\n",
       "0  madhu@gmail.com    madhu\n",
       "1  aryan@gmail.com    aryan\n",
       "2   soni@gmail.com     soni"
      ]
     },
     "execution_count": 43,
     "metadata": {},
     "output_type": "execute_result"
    }
   ],
   "source": [
    "df7"
   ]
  },
  {
   "cell_type": "markdown",
   "id": "39d64909-9110-41b9-9a66-900707075e11",
   "metadata": {
    "jp-MarkdownHeadingCollapsed": true,
    "tags": []
   },
   "source": [
    "### Question 8."
   ]
  },
  {
   "cell_type": "code",
   "execution_count": 48,
   "id": "1b69ce30-121e-40bf-be30-2025107cefc3",
   "metadata": {},
   "outputs": [],
   "source": [
    "df8 = pd.DataFrame({\"a\": [3,8,6,2,9], \"b\": [5,2,9,3,1], \"c\": [1,7,4,5,2]})"
   ]
  },
  {
   "cell_type": "markdown",
   "id": "ff5641e2-9b21-46de-8738-f1f0ff237737",
   "metadata": {},
   "source": [
    "Example 1. "
   ]
  },
  {
   "cell_type": "code",
   "execution_count": 62,
   "id": "a746de2c-87c4-441f-9157-1fe8d75ea7f1",
   "metadata": {},
   "outputs": [
    {
     "data": {
      "text/html": [
       "<div>\n",
       "<style scoped>\n",
       "    .dataframe tbody tr th:only-of-type {\n",
       "        vertical-align: middle;\n",
       "    }\n",
       "\n",
       "    .dataframe tbody tr th {\n",
       "        vertical-align: top;\n",
       "    }\n",
       "\n",
       "    .dataframe thead th {\n",
       "        text-align: right;\n",
       "    }\n",
       "</style>\n",
       "<table border=\"1\" class=\"dataframe\">\n",
       "  <thead>\n",
       "    <tr style=\"text-align: right;\">\n",
       "      <th></th>\n",
       "      <th>a</th>\n",
       "      <th>b</th>\n",
       "      <th>c</th>\n",
       "    </tr>\n",
       "  </thead>\n",
       "  <tbody>\n",
       "    <tr>\n",
       "      <th>1</th>\n",
       "      <td>8</td>\n",
       "      <td>2</td>\n",
       "      <td>7</td>\n",
       "    </tr>\n",
       "    <tr>\n",
       "      <th>2</th>\n",
       "      <td>6</td>\n",
       "      <td>9</td>\n",
       "      <td>4</td>\n",
       "    </tr>\n",
       "    <tr>\n",
       "      <th>4</th>\n",
       "      <td>9</td>\n",
       "      <td>1</td>\n",
       "      <td>2</td>\n",
       "    </tr>\n",
       "  </tbody>\n",
       "</table>\n",
       "</div>"
      ],
      "text/plain": [
       "   a  b  c\n",
       "1  8  2  7\n",
       "2  6  9  4\n",
       "4  9  1  2"
      ]
     },
     "execution_count": 62,
     "metadata": {},
     "output_type": "execute_result"
    }
   ],
   "source": [
    "df8[(df8.a > 5) & (df8.b < 10)]"
   ]
  },
  {
   "cell_type": "markdown",
   "id": "8b27b736-da6b-46e2-a549-22215a4ecdd4",
   "metadata": {},
   "source": [
    "Example 2."
   ]
  },
  {
   "cell_type": "code",
   "execution_count": 64,
   "id": "61a908f1-4f5a-4d8f-89c7-594970a49dcc",
   "metadata": {},
   "outputs": [
    {
     "name": "stdout",
     "output_type": "stream",
     "text": [
      "   a  b  c\n",
      "1  8  2  7\n",
      "2  6  9  4\n",
      "4  9  1  2\n"
     ]
    }
   ],
   "source": [
    "def filter_data_frame(df):\n",
    "    return df.query('a > 5 and b < 10')\n",
    "    \n",
    "print(filter_data_frame(df8))"
   ]
  },
  {
   "cell_type": "markdown",
   "id": "b9f0408c-099d-4898-a97a-d1706ab086d6",
   "metadata": {
    "jp-MarkdownHeadingCollapsed": true,
    "tags": []
   },
   "source": [
    "### Question 9."
   ]
  },
  {
   "cell_type": "code",
   "execution_count": 69,
   "id": "6bc38817-964c-4357-9bae-01da446aa67c",
   "metadata": {},
   "outputs": [
    {
     "name": "stdout",
     "output_type": "stream",
     "text": [
      "mean 5.0\n",
      "median 5.0\n",
      "std 2.7386127875258306\n"
     ]
    }
   ],
   "source": [
    "df9 = pd.DataFrame({'Values': [1,2,3,4,5,6,7,8,9]})\n",
    "print(\"mean\", df9.Values.mean())\n",
    "print(\"median\", df9.Values.median())\n",
    "print(\"std\", df9.Values.std())"
   ]
  },
  {
   "cell_type": "markdown",
   "id": "2b54927d-37d1-4405-b2a1-4d9d7db3b20e",
   "metadata": {
    "jp-MarkdownHeadingCollapsed": true,
    "tags": []
   },
   "source": [
    "### Question 10."
   ]
  },
  {
   "cell_type": "code",
   "execution_count": 139,
   "id": "b0b26113-7cd6-461f-897a-7e323d9648d1",
   "metadata": {},
   "outputs": [],
   "source": [
    "df10 = pd.DataFrame({\"Sales\": [], \"Date\": []}) ## pending due to some confusion"
   ]
  },
  {
   "cell_type": "markdown",
   "id": "9f47fa13-664d-4577-944c-31e3fb248d77",
   "metadata": {
    "tags": []
   },
   "source": [
    "### Question 11."
   ]
  },
  {
   "cell_type": "code",
   "execution_count": 132,
   "id": "ed466b4b-6529-4f83-bf6b-35ae654117d4",
   "metadata": {},
   "outputs": [],
   "source": [
    "from datetime import datetime\n",
    "\n",
    "df11 = pd.DataFrame({\"Date\": [\"2023-01-01\", \"2023-01-02\", \"2023-01-03\", \"2023-01-04\", \"2023-01-05\", \"2023-03-08\", \"2023-03-10\", \"2023-03-11\"]})"
   ]
  },
  {
   "cell_type": "code",
   "execution_count": 126,
   "id": "3de6386b-9294-43f4-bf28-bc7243f1f680",
   "metadata": {},
   "outputs": [
    {
     "data": {
      "text/html": [
       "<div>\n",
       "<style scoped>\n",
       "    .dataframe tbody tr th:only-of-type {\n",
       "        vertical-align: middle;\n",
       "    }\n",
       "\n",
       "    .dataframe tbody tr th {\n",
       "        vertical-align: top;\n",
       "    }\n",
       "\n",
       "    .dataframe thead th {\n",
       "        text-align: right;\n",
       "    }\n",
       "</style>\n",
       "<table border=\"1\" class=\"dataframe\">\n",
       "  <thead>\n",
       "    <tr style=\"text-align: right;\">\n",
       "      <th></th>\n",
       "      <th>Date</th>\n",
       "      <th>weekday</th>\n",
       "    </tr>\n",
       "  </thead>\n",
       "  <tbody>\n",
       "    <tr>\n",
       "      <th>0</th>\n",
       "      <td>2023-01-01</td>\n",
       "      <td>Sun</td>\n",
       "    </tr>\n",
       "    <tr>\n",
       "      <th>1</th>\n",
       "      <td>2023-01-02</td>\n",
       "      <td>Mon</td>\n",
       "    </tr>\n",
       "    <tr>\n",
       "      <th>2</th>\n",
       "      <td>2023-01-03</td>\n",
       "      <td>Tue</td>\n",
       "    </tr>\n",
       "    <tr>\n",
       "      <th>3</th>\n",
       "      <td>2023-01-04</td>\n",
       "      <td>Wed</td>\n",
       "    </tr>\n",
       "    <tr>\n",
       "      <th>4</th>\n",
       "      <td>2023-01-05</td>\n",
       "      <td>Thus</td>\n",
       "    </tr>\n",
       "    <tr>\n",
       "      <th>5</th>\n",
       "      <td>2023-03-08</td>\n",
       "      <td>Wed</td>\n",
       "    </tr>\n",
       "    <tr>\n",
       "      <th>6</th>\n",
       "      <td>2023-03-10</td>\n",
       "      <td>Fri</td>\n",
       "    </tr>\n",
       "    <tr>\n",
       "      <th>7</th>\n",
       "      <td>2023-03-11</td>\n",
       "      <td>Sat</td>\n",
       "    </tr>\n",
       "  </tbody>\n",
       "</table>\n",
       "</div>"
      ],
      "text/plain": [
       "         Date weekday\n",
       "0  2023-01-01     Sun\n",
       "1  2023-01-02     Mon\n",
       "2  2023-01-03     Tue\n",
       "3  2023-01-04     Wed\n",
       "4  2023-01-05    Thus\n",
       "5  2023-03-08     Wed\n",
       "6  2023-03-10     Fri\n",
       "7  2023-03-11     Sat"
      ]
     },
     "execution_count": 126,
     "metadata": {},
     "output_type": "execute_result"
    }
   ],
   "source": [
    "weekdays = [\"Mon\", \"Tue\", \"Wed\", \"Thus\", \"Fri\", \"Sat\", \"Sun\"] \n",
    "df11['weekday'] = [weekdays[datetime.strptime(date_obj, \"%Y-%m-%d\").weekday()] for date_obj in df11.Date] \n",
    "df11"
   ]
  },
  {
   "cell_type": "markdown",
   "id": "6108c4f1-236f-4a95-8bb6-c901d609000d",
   "metadata": {
    "tags": []
   },
   "source": [
    "### Question 12."
   ]
  },
  {
   "cell_type": "code",
   "execution_count": 142,
   "id": "5f4e7caf-4473-41af-892a-75b5d1bd6a20",
   "metadata": {},
   "outputs": [
    {
     "data": {
      "text/html": [
       "<div>\n",
       "<style scoped>\n",
       "    .dataframe tbody tr th:only-of-type {\n",
       "        vertical-align: middle;\n",
       "    }\n",
       "\n",
       "    .dataframe tbody tr th {\n",
       "        vertical-align: top;\n",
       "    }\n",
       "\n",
       "    .dataframe thead th {\n",
       "        text-align: right;\n",
       "    }\n",
       "</style>\n",
       "<table border=\"1\" class=\"dataframe\">\n",
       "  <thead>\n",
       "    <tr style=\"text-align: right;\">\n",
       "      <th></th>\n",
       "      <th>Date</th>\n",
       "    </tr>\n",
       "  </thead>\n",
       "  <tbody>\n",
       "    <tr>\n",
       "      <th>0</th>\n",
       "      <td>2023-01-01</td>\n",
       "    </tr>\n",
       "    <tr>\n",
       "      <th>1</th>\n",
       "      <td>2023-01-02</td>\n",
       "    </tr>\n",
       "    <tr>\n",
       "      <th>2</th>\n",
       "      <td>2023-01-03</td>\n",
       "    </tr>\n",
       "    <tr>\n",
       "      <th>3</th>\n",
       "      <td>2023-01-04</td>\n",
       "    </tr>\n",
       "    <tr>\n",
       "      <th>4</th>\n",
       "      <td>2023-01-05</td>\n",
       "    </tr>\n",
       "  </tbody>\n",
       "</table>\n",
       "</div>"
      ],
      "text/plain": [
       "        Date\n",
       "0 2023-01-01\n",
       "1 2023-01-02\n",
       "2 2023-01-03\n",
       "3 2023-01-04\n",
       "4 2023-01-05"
      ]
     },
     "execution_count": 142,
     "metadata": {},
     "output_type": "execute_result"
    }
   ],
   "source": [
    "df12 = pd.DataFrame({\"Date\": [\"2023-01-01\", \"2023-01-02\", \"2023-01-03\", \"2023-01-04\", \"2023-01-05\",\"2023-02-01\", \"2023-02-02\", \"2023-02-03\", \"2023-02-04\", \"2023-02-05\", \"2023-03-08\", \"2023-03-10\", \"2023-03-11\"]})\n",
    "\n",
    "df12.Date = [datetime.strptime(element, \"%Y-%m-%d\") for element in df12.Date]\n",
    "\n",
    "from_date = datetime.strptime('2023-01-01', \"%Y-%m-%d\")\n",
    "to_date = datetime.strptime('2023-01-31', \"%Y-%m-%d\")\n",
    "\n",
    "df12[(df12.Date >= from_date) & (df12.Date <= to_date)]"
   ]
  },
  {
   "cell_type": "code",
   "execution_count": null,
   "id": "2eed9c06-0633-42fa-a836-6a1af9c31fc7",
   "metadata": {},
   "outputs": [],
   "source": []
  }
 ],
 "metadata": {
  "kernelspec": {
   "display_name": "Python 3 (ipykernel)",
   "language": "python",
   "name": "python3"
  },
  "language_info": {
   "codemirror_mode": {
    "name": "ipython",
    "version": 3
   },
   "file_extension": ".py",
   "mimetype": "text/x-python",
   "name": "python",
   "nbconvert_exporter": "python",
   "pygments_lexer": "ipython3",
   "version": "3.10.8"
  }
 },
 "nbformat": 4,
 "nbformat_minor": 5
}
