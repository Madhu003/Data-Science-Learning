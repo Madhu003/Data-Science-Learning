{
 "cells": [
  {
   "cell_type": "markdown",
   "id": "d7ff5dee-e1e5-4e6f-bd39-71bbe4724ca3",
   "metadata": {},
   "source": [
    "### Question 1."
   ]
  },
  {
   "cell_type": "markdown",
   "id": "579a7c07-9ab1-4103-aa94-68e5ec25ce91",
   "metadata": {},
   "source": [
    "#### Class is a blueprint of a real-world entity where we have attributes in class as variables & actions as functions to perform specific tasks or show particular functionality for a particular. An object is an instance of that class by which a developer use that class's features because by the object on computer, we get memory allocation & availabilty of that feature which is mentioned in class.  "
   ]
  },
  {
   "cell_type": "code",
   "execution_count": 4,
   "id": "09207e3a-54f3-444c-b446-9327542f248e",
   "metadata": {},
   "outputs": [
    {
     "name": "stdout",
     "output_type": "stream",
     "text": [
      "init called\n",
      "139975874000736\n"
     ]
    }
   ],
   "source": [
    "class test:\n",
    "    \n",
    "    def __init__(self):\n",
    "        print(\"init called\")\n",
    "        \n",
    "    def showingInstanceID(self):\n",
    "        print(id(self))\n",
    "        \n",
    "testObj = test()\n",
    "\n",
    "testObj.showingInstanceID()"
   ]
  },
  {
   "cell_type": "markdown",
   "id": "ffb75428-23dd-44f7-8cee-9381e61be30c",
   "metadata": {},
   "source": [
    "### Question 2."
   ]
  },
  {
   "cell_type": "markdown",
   "id": "a85eba19-433c-4604-b6c2-dc058fdd7f8f",
   "metadata": {},
   "source": [
    "#### 1. Encasulation\n",
    "#### 2. Polymorphism\n",
    "#### 3. Abstraction\n",
    "#### 4. Inheritance"
   ]
  },
  {
   "cell_type": "markdown",
   "id": "d0abeb52-7106-4e92-b915-944a52a4da34",
   "metadata": {},
   "source": [
    "### Question 3."
   ]
  },
  {
   "cell_type": "markdown",
   "id": "73068737-26ba-4119-acd3-23b46ac9c319",
   "metadata": {},
   "source": [
    "#### __ init __ () function is used as hook in process of object creation where we can pass some data to initialise some variable which will be available in object."
   ]
  },
  {
   "cell_type": "code",
   "execution_count": 7,
   "id": "7ecc1723-9de7-466e-bd39-9b7e3295bc35",
   "metadata": {},
   "outputs": [
    {
     "name": "stdout",
     "output_type": "stream",
     "text": [
      "('test', 100, False)\n"
     ]
    }
   ],
   "source": [
    "class test:\n",
    "    \n",
    "    def __init__(self, a, b, c):\n",
    "        self.a = a\n",
    "        self.b = b\n",
    "        self.c = c\n",
    "              \n",
    "    def printPassedData(self):\n",
    "        print((self.a, self.b, self.c))\n",
    "        \n",
    "        \n",
    "testObj1 = test('test', 100, False)\n",
    "\n",
    "testObj1.printPassedData()"
   ]
  },
  {
   "cell_type": "markdown",
   "id": "b554b7e7-c8dc-4356-885f-b45308c65c55",
   "metadata": {},
   "source": [
    "### Question 4."
   ]
  },
  {
   "cell_type": "markdown",
   "id": "c8936083-dafe-4dff-8380-d9a620707ef2",
   "metadata": {},
   "source": [
    "#### self is a keyword which is use to refer the current class or to itself."
   ]
  },
  {
   "cell_type": "markdown",
   "id": "7b36154c-7f8f-447f-972b-cc98d8b55b56",
   "metadata": {},
   "source": [
    "### Question 5."
   ]
  },
  {
   "cell_type": "code",
   "execution_count": 10,
   "id": "7dd4b934-140a-4485-ae35-ded5122a2d62",
   "metadata": {},
   "outputs": [
    {
     "name": "stdout",
     "output_type": "stream",
     "text": [
      "calling init method from child\n",
      "calling method from parent\n",
      "calling method from child\n"
     ]
    }
   ],
   "source": [
    "class Parent:\n",
    "    \n",
    "    # def __init__(self):\n",
    "    #     print(\"calling init method from parent\", self)\n",
    "    \n",
    "    def method_from_parent_class(self):\n",
    "        print(\"calling method from parent\")\n",
    "        \n",
    "class Child(Parent):\n",
    "    \n",
    "    def __init__(self):\n",
    "        super()\n",
    "        print(\"calling init method from child\")\n",
    "        \n",
    "    def method_from_child_child(self):\n",
    "        print(\"calling method from child\",) \n",
    "        \n",
    "child_obj = Child()\n",
    "child_obj.method_from_parent_class()\n",
    "child_obj.method_from_child_child()"
   ]
  },
  {
   "cell_type": "code",
   "execution_count": null,
   "id": "59d0a8cc-e17c-4126-bfdd-37e64ecf0cd4",
   "metadata": {},
   "outputs": [],
   "source": []
  }
 ],
 "metadata": {
  "kernelspec": {
   "display_name": "Python 3 (ipykernel)",
   "language": "python",
   "name": "python3"
  },
  "language_info": {
   "codemirror_mode": {
    "name": "ipython",
    "version": 3
   },
   "file_extension": ".py",
   "mimetype": "text/x-python",
   "name": "python",
   "nbconvert_exporter": "python",
   "pygments_lexer": "ipython3",
   "version": "3.10.8"
  }
 },
 "nbformat": 4,
 "nbformat_minor": 5
}
