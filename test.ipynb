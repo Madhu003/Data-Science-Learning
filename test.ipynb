{
 "cells": [
  {
   "cell_type": "code",
   "execution_count": 1,
   "metadata": {},
   "outputs": [],
   "source": [
    "import pandas as pd\n",
    "import numpy as np\n",
    "\n",
    "# Define the possible values for each column\n",
    "grading_values = [\"A+\", \"A\", \"B+\", \"B\", \"C+\", \"C\", \"D\", \"D+\", \"E\", \"E+\"]\n",
    "colour_values = [\"yellow\", \"green\", \"orange\", \"red\"]\n",
    "height_values = np.random.normal(loc=175, scale=5, size=1000)\n",
    "num_mangoes_values = np.random.randint(low=100, high=1000, size=1000)\n",
    "\n",
    "# Generate the random data\n",
    "data = {\n",
    "    \"Grading in exam\": np.random.choice(grading_values, size=1000),\n",
    "    \"Colour of mangoes\": np.random.choice(colour_values, size=1000),\n",
    "    \"Height data of a class\": height_values,\n",
    "    \"Number of mangoes exported by a farm\": num_mangoes_values,\n",
    "}\n",
    "\n",
    "# Create a DataFrame from the data\n",
    "df = pd.DataFrame(data)\n",
    "\n",
    "# Save the DataFrame to a CSV file\n",
    "df.to_csv(\"sample_data.csv\", index=False)"
   ]
  },
  {
   "cell_type": "code",
   "execution_count": null,
   "metadata": {},
   "outputs": [],
   "source": []
  }
 ],
 "metadata": {
  "kernelspec": {
   "display_name": "Python 3",
   "language": "python",
   "name": "python3"
  },
  "language_info": {
   "codemirror_mode": {
    "name": "ipython",
    "version": 3
   },
   "file_extension": ".py",
   "mimetype": "text/x-python",
   "name": "python",
   "nbconvert_exporter": "python",
   "pygments_lexer": "ipython3",
   "version": "3.10.6"
  },
  "orig_nbformat": 4
 },
 "nbformat": 4,
 "nbformat_minor": 2
}
