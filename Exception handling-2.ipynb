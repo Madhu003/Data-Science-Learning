{
 "cells": [
  {
   "cell_type": "code",
   "execution_count": 1,
   "id": "e59cb0b9-761e-48df-a66b-3f4b1c483da7",
   "metadata": {},
   "outputs": [],
   "source": [
    "# https://drive.google.com/file/d/1Jd3DJHIC4aT1WM2Axch3atm6GZK-6_PT/view"
   ]
  },
  {
   "cell_type": "markdown",
   "id": "dc0c7eb1-de7f-4b8f-b102-e018e90be859",
   "metadata": {
    "jp-MarkdownHeadingCollapsed": true,
    "tags": []
   },
   "source": [
    "### Quation 1."
   ]
  },
  {
   "cell_type": "markdown",
   "id": "e85e8690-4534-44db-9af8-df0c0bdb5ba4",
   "metadata": {},
   "source": [
    "#### we have few reasons like - \n",
    "\n",
    "1. By inheriting exception class we have all properties to built in expcetion which we can use while taking actions.\n",
    "\n",
    "2. Also have access of all dunder like __str()__ so we get similar behaviour of our custom class.\n",
    "\n",
    "3. AS inheriting built in exception class we can raise excpetion by our custom class & use try-catch to handle this and this all will work with custom class because we have inhetted props of exception class. "
   ]
  },
  {
   "cell_type": "markdown",
   "id": "aa932e5c-d90d-44cf-ab99-54a1ffb007fb",
   "metadata": {
    "jp-MarkdownHeadingCollapsed": true,
    "tags": []
   },
   "source": [
    "### Question 2."
   ]
  },
  {
   "cell_type": "markdown",
   "id": "27f141d4-c6f5-423a-a202-6d6db864b70d",
   "metadata": {},
   "source": [
    "#### we can have a heirachy of exception class by itertraing it and can read class details by function __subclasses__()"
   ]
  },
  {
   "cell_type": "code",
   "execution_count": 9,
   "id": "c200ceb7-2c1b-4ecb-91c9-2c746357c477",
   "metadata": {
    "collapsed": true,
    "jupyter": {
     "outputs_hidden": true
    },
    "tags": []
   },
   "outputs": [
    {
     "name": "stdout",
     "output_type": "stream",
     "text": [
      "<class 'BaseException'>\n",
      "    <class 'Exception'>\n",
      "        <class 'TypeError'>\n",
      "            <class 'decimal.FloatOperation'>\n",
      "            <class 'email.errors.MultipartConversionError'>\n",
      "        <class 'StopAsyncIteration'>\n",
      "        <class 'StopIteration'>\n",
      "        <class 'ImportError'>\n",
      "            <class 'ModuleNotFoundError'>\n",
      "            <class 'zipimport.ZipImportError'>\n",
      "        <class 'OSError'>\n",
      "            <class 'ConnectionError'>\n",
      "                <class 'BrokenPipeError'>\n",
      "                <class 'ConnectionAbortedError'>\n",
      "                <class 'ConnectionRefusedError'>\n",
      "                <class 'ConnectionResetError'>\n",
      "                    <class 'http.client.RemoteDisconnected'>\n",
      "            <class 'BlockingIOError'>\n",
      "            <class 'ChildProcessError'>\n",
      "            <class 'FileExistsError'>\n",
      "            <class 'FileNotFoundError'>\n",
      "            <class 'IsADirectoryError'>\n",
      "            <class 'NotADirectoryError'>\n",
      "            <class 'InterruptedError'>\n",
      "                <class 'zmq.error.InterruptedSystemCall'>\n",
      "            <class 'PermissionError'>\n",
      "            <class 'ProcessLookupError'>\n",
      "            <class 'TimeoutError'>\n",
      "            <class 'io.UnsupportedOperation'>\n",
      "            <class 'signal.itimer_error'>\n",
      "            <class 'socket.herror'>\n",
      "            <class 'socket.gaierror'>\n",
      "            <class 'ssl.SSLError'>\n",
      "                <class 'ssl.SSLCertVerificationError'>\n",
      "                <class 'ssl.SSLZeroReturnError'>\n",
      "                <class 'ssl.SSLWantWriteError'>\n",
      "                <class 'ssl.SSLWantReadError'>\n",
      "                <class 'ssl.SSLSyscallError'>\n",
      "                <class 'ssl.SSLEOFError'>\n",
      "            <class 'shutil.Error'>\n",
      "                <class 'shutil.SameFileError'>\n",
      "            <class 'shutil.SpecialFileError'>\n",
      "            <class 'shutil.ExecError'>\n",
      "            <class 'shutil.ReadError'>\n",
      "            <class 'urllib.error.URLError'>\n",
      "                <class 'urllib.error.HTTPError'>\n",
      "                <class 'urllib.error.ContentTooShortError'>\n",
      "            <class 'gzip.BadGzipFile'>\n",
      "        <class 'EOFError'>\n",
      "            <class 'asyncio.exceptions.IncompleteReadError'>\n",
      "        <class 'RuntimeError'>\n",
      "            <class 'RecursionError'>\n",
      "            <class 'NotImplementedError'>\n",
      "                <class 'zmq.error.ZMQVersionError'>\n",
      "                <class 'IPython.core.error.StdinNotImplementedError'>\n",
      "            <class '_frozen_importlib._DeadlockError'>\n",
      "            <class 'threading.BrokenBarrierError'>\n",
      "            <class 'concurrent.futures._base.BrokenExecutor'>\n",
      "                <class 'concurrent.futures.thread.BrokenThreadPool'>\n",
      "            <class 'asyncio.exceptions.SendfileNotAvailableError'>\n",
      "            <class 'pkg_resources.ExtractionError'>\n",
      "            <class '_pydevd_bundle.pydevd_vars.VariableError'>\n",
      "        <class 'NameError'>\n",
      "            <class 'UnboundLocalError'>\n",
      "        <class 'AttributeError'>\n",
      "            <class 'dataclasses.FrozenInstanceError'>\n",
      "        <class 'SyntaxError'>\n",
      "            <class 'IndentationError'>\n",
      "                <class 'TabError'>\n",
      "        <class 'LookupError'>\n",
      "            <class 'IndexError'>\n",
      "            <class 'KeyError'>\n",
      "                <class 'jupyter_client.kernelspec.NoSuchKernel'>\n",
      "                <class 'IPython.terminal.pt_inputhooks.UnknownBackend'>\n",
      "            <class 'encodings.CodecRegistryError'>\n",
      "        <class 'ValueError'>\n",
      "            <class 'UnicodeError'>\n",
      "                <class 'UnicodeEncodeError'>\n",
      "                <class 'UnicodeDecodeError'>\n",
      "                <class 'UnicodeTranslateError'>\n",
      "            <class 'io.UnsupportedOperation'>\n",
      "            <class 'json.decoder.JSONDecodeError'>\n",
      "            <class 'ssl.SSLCertVerificationError'>\n",
      "            <class 'binascii.Error'>\n",
      "            <class '_hashlib.UnsupportedDigestmodError'>\n",
      "            <class 'calendar.IllegalMonthError'>\n",
      "            <class 'calendar.IllegalWeekdayError'>\n",
      "            <class 'dateutil.parser._parser.ParserError'>\n",
      "            <class 'pygments.util.ClassNotFound'>\n",
      "            <class 'IPython.lib.clipboard.ClipboardEmpty'>\n",
      "            <class 'email.errors.MessageDefect'>\n",
      "                <class 'email.errors.NoBoundaryInMultipartDefect'>\n",
      "                <class 'email.errors.StartBoundaryNotFoundDefect'>\n",
      "                <class 'email.errors.CloseBoundaryNotFoundDefect'>\n",
      "                <class 'email.errors.FirstHeaderLineIsContinuationDefect'>\n",
      "                <class 'email.errors.MisplacedEnvelopeHeaderDefect'>\n",
      "                <class 'email.errors.MissingHeaderBodySeparatorDefect'>\n",
      "                <class 'email.errors.MultipartInvariantViolationDefect'>\n",
      "                <class 'email.errors.InvalidMultipartContentTransferEncodingDefect'>\n",
      "                <class 'email.errors.UndecodableBytesDefect'>\n",
      "                <class 'email.errors.InvalidBase64PaddingDefect'>\n",
      "                <class 'email.errors.InvalidBase64CharactersDefect'>\n",
      "                <class 'email.errors.InvalidBase64LengthDefect'>\n",
      "                <class 'email.errors.HeaderDefect'>\n",
      "                    <class 'email.errors.InvalidHeaderDefect'>\n",
      "                    <class 'email.errors.HeaderMissingRequiredValue'>\n",
      "                    <class 'email.errors.NonPrintableDefect'>\n",
      "                    <class 'email.errors.ObsoleteHeaderDefect'>\n",
      "                    <class 'email.errors.NonASCIILocalPartDefect'>\n",
      "                    <class 'email.errors.InvalidDateDefect'>\n",
      "            <class 'IPython.core.magics.code.MacroToEdit'>\n",
      "            <class 'plistlib.InvalidFileException'>\n",
      "            <class 'pkg_resources._vendor.more_itertools.more.UnequalIterablesError'>\n",
      "            <class 'pkg_resources.extern.packaging.version.InvalidVersion'>\n",
      "            <class 'pkg_resources._vendor.packaging._manylinux._ELFFileHeader._InvalidELFFileHeader'>\n",
      "            <class 'pkg_resources.extern.packaging.utils.InvalidWheelFilename'>\n",
      "            <class 'pkg_resources.extern.packaging.utils.InvalidSdistFilename'>\n",
      "            <class 'pkg_resources.extern.packaging.specifiers.InvalidSpecifier'>\n",
      "            <class 'pkg_resources.extern.packaging.markers.InvalidMarker'>\n",
      "            <class 'pkg_resources.extern.packaging.markers.UndefinedComparison'>\n",
      "            <class 'pkg_resources.extern.packaging.markers.UndefinedEnvironmentName'>\n",
      "            <class 'pkg_resources.extern.packaging.requirements.InvalidRequirement'>\n",
      "                <class 'pkg_resources.RequirementParseError'>\n",
      "            <class 'packaging.version.InvalidVersion'>\n",
      "        <class 'AssertionError'>\n",
      "        <class 'ArithmeticError'>\n",
      "            <class 'FloatingPointError'>\n",
      "            <class 'OverflowError'>\n",
      "            <class 'ZeroDivisionError'>\n",
      "                <class 'decimal.DivisionByZero'>\n",
      "                <class 'decimal.DivisionUndefined'>\n",
      "            <class 'decimal.DecimalException'>\n",
      "                <class 'decimal.Clamped'>\n",
      "                <class 'decimal.Rounded'>\n",
      "                    <class 'decimal.Underflow'>\n",
      "                    <class 'decimal.Overflow'>\n",
      "                <class 'decimal.Inexact'>\n",
      "                    <class 'decimal.Underflow'>\n",
      "                    <class 'decimal.Overflow'>\n",
      "                <class 'decimal.Subnormal'>\n",
      "                    <class 'decimal.Underflow'>\n",
      "                <class 'decimal.DivisionByZero'>\n",
      "                <class 'decimal.FloatOperation'>\n",
      "                <class 'decimal.InvalidOperation'>\n",
      "                    <class 'decimal.ConversionSyntax'>\n",
      "                    <class 'decimal.DivisionImpossible'>\n",
      "                    <class 'decimal.DivisionUndefined'>\n",
      "                    <class 'decimal.InvalidContext'>\n",
      "        <class 'SystemError'>\n",
      "            <class 'encodings.CodecRegistryError'>\n",
      "        <class 'ReferenceError'>\n",
      "        <class 'MemoryError'>\n",
      "        <class 'BufferError'>\n",
      "        <class 'Warning'>\n",
      "            <class 'UserWarning'>\n",
      "                <class 'getpass.GetPassWarning'>\n",
      "                <class 'IPython.core.formatters.FormatterWarning'>\n",
      "            <class 'EncodingWarning'>\n",
      "            <class 'DeprecationWarning'>\n",
      "                <class 'IPython.core.interactiveshell.ProvisionalWarning'>\n",
      "            <class 'PendingDeprecationWarning'>\n",
      "            <class 'SyntaxWarning'>\n",
      "            <class 'RuntimeWarning'>\n",
      "                <class 'zmq.asyncio.ProactorSelectorThreadWarning'>\n",
      "                <class 'dateutil.parser._parser.UnknownTimezoneWarning'>\n",
      "                <class 'pkg_resources.PEP440Warning'>\n",
      "            <class 'FutureWarning'>\n",
      "                <class 'IPython.core.completer.ProvisionalCompleterWarning'>\n",
      "            <class 'ImportWarning'>\n",
      "            <class 'UnicodeWarning'>\n",
      "            <class 'BytesWarning'>\n",
      "            <class 'ResourceWarning'>\n",
      "            <class 'dateutil.tz.DeprecatedTzFormatWarning'>\n",
      "            <class 'pkg_resources.PkgResourcesDeprecationWarning'>\n",
      "        <class 'warnings._OptionError'>\n",
      "        <class 'runpy._Error'>\n",
      "        <class 're.error'>\n",
      "        <class 'sre_parse.Verbose'>\n",
      "        <class 'locale.Error'>\n",
      "        <class 'subprocess.SubprocessError'>\n",
      "            <class 'subprocess.CalledProcessError'>\n",
      "            <class 'subprocess.TimeoutExpired'>\n",
      "        <class 'tokenize.TokenError'>\n",
      "        <class 'tokenize.StopTokenizing'>\n",
      "        <class 'inspect.ClassFoundException'>\n",
      "        <class 'inspect.EndOfBlock'>\n",
      "        <class 'traitlets.traitlets.TraitError'>\n",
      "        <class 'copy.Error'>\n",
      "        <class 'concurrent.futures._base.Error'>\n",
      "            <class 'concurrent.futures._base.CancelledError'>\n",
      "            <class 'concurrent.futures._base.TimeoutError'>\n",
      "            <class 'concurrent.futures._base.InvalidStateError'>\n",
      "        <class 'socket._GiveupOnSendfile'>\n",
      "        <class 'struct.error'>\n",
      "        <class 'binascii.Incomplete'>\n",
      "        <class 'asyncio.exceptions.TimeoutError'>\n",
      "        <class 'asyncio.exceptions.InvalidStateError'>\n",
      "        <class 'asyncio.exceptions.LimitOverrunError'>\n",
      "        <class 'asyncio.queues.QueueEmpty'>\n",
      "        <class 'asyncio.queues.QueueFull'>\n",
      "        <class '_queue.Empty'>\n",
      "        <class 'queue.Full'>\n",
      "        <class 'ctypes.ArgumentError'>\n",
      "        <class 'zmq.error.ZMQBaseError'>\n",
      "            <class 'zmq.error.ZMQError'>\n",
      "                <class 'zmq.error.ContextTerminated'>\n",
      "                <class 'zmq.error.Again'>\n",
      "                <class 'zmq.error.InterruptedSystemCall'>\n",
      "            <class 'zmq.error.ZMQBindError'>\n",
      "            <class 'zmq.error.NotDone'>\n",
      "        <class '_pickle.PickleError'>\n",
      "            <class '_pickle.PicklingError'>\n",
      "            <class '_pickle.UnpicklingError'>\n",
      "        <class 'pickle._Stop'>\n",
      "        <class 'argparse.ArgumentError'>\n",
      "        <class 'argparse.ArgumentTypeError'>\n",
      "        <class 'traitlets.config.loader.ConfigError'>\n",
      "            <class 'traitlets.config.loader.ConfigLoaderError'>\n",
      "                <class 'traitlets.config.loader.ArgumentError'>\n",
      "            <class 'traitlets.config.loader.ConfigFileNotFound'>\n",
      "        <class 'traitlets.config.configurable.ConfigurableError'>\n",
      "            <class 'traitlets.config.configurable.MultipleInstanceError'>\n",
      "        <class 'traitlets.config.application.ApplicationError'>\n",
      "        <class 'zlib.error'>\n",
      "        <class 'tornado.util.TimeoutError'>\n",
      "        <class '_curses.error'>\n",
      "        <class 'tornado.concurrent.ReturnValueIgnoredError'>\n",
      "        <class 'tornado.gen.KeyReuseError'>\n",
      "        <class 'tornado.gen.UnknownKeyError'>\n",
      "        <class 'tornado.gen.LeakedCallbackError'>\n",
      "        <class 'tornado.gen.BadYieldError'>\n",
      "        <class 'tornado.gen.ReturnValueIgnoredError'>\n",
      "        <class 'tornado.gen.Return'>\n",
      "        <class 'jupyter_client.channels.InvalidPortNumber'>\n",
      "        <class 'termios.error'>\n",
      "        <class '_lzma.LZMAError'>\n",
      "        <class 'shutil.RegistryError'>\n",
      "        <class 'shutil._GiveupOnFastCopy'>\n",
      "        <class 'configparser.Error'>\n",
      "            <class 'configparser.NoSectionError'>\n",
      "            <class 'configparser.DuplicateSectionError'>\n",
      "            <class 'configparser.DuplicateOptionError'>\n",
      "            <class 'configparser.NoOptionError'>\n",
      "            <class 'configparser.InterpolationError'>\n",
      "                <class 'configparser.InterpolationMissingOptionError'>\n",
      "                <class 'configparser.InterpolationSyntaxError'>\n",
      "                <class 'configparser.InterpolationDepthError'>\n",
      "            <class 'configparser.ParsingError'>\n",
      "                <class 'configparser.MissingSectionHeaderError'>\n",
      "        <class 'jupyter_client.localinterfaces.NoIPAddresses'>\n",
      "        <class 'zipfile.BadZipFile'>\n",
      "        <class 'zipfile.LargeZipFile'>\n",
      "        <class 'entrypoints.BadEntryPoint'>\n",
      "        <class 'entrypoints.NoSuchEntryPoint'>\n",
      "        <class 'jupyter_client.multikernelmanager.DuplicateKernelError'>\n",
      "        <class 'pydoc.ErrorDuringImport'>\n",
      "        <class 'executing.executing.NotOneValueFound'>\n",
      "        <class 'pure_eval.utils.CannotEval'>\n",
      "        <class 'pygments.util.OptionError'>\n",
      "        <class 'bdb.BdbQuit'>\n",
      "        <class 'pdb.Restart'>\n",
      "        <class 'pexpect.exceptions.ExceptionPexpect'>\n",
      "            <class 'pexpect.exceptions.EOF'>\n",
      "            <class 'pexpect.exceptions.TIMEOUT'>\n",
      "        <class 'ptyprocess.util.PtyProcessError'>\n",
      "        <class 'IPython.utils.process.FindCmdError'>\n",
      "        <class 'IPython.utils.path.HomeDirError'>\n",
      "        <class 'IPython.core.profiledir.ProfileDirError'>\n",
      "        <class 'IPython.core.error.IPythonCoreError'>\n",
      "            <class 'IPython.core.error.TryNext'>\n",
      "            <class 'IPython.core.error.UsageError'>\n",
      "            <class 'IPython.core.error.StdinNotImplementedError'>\n",
      "        <class 'IPython.core.error.InputRejected'>\n",
      "        <class 'getopt.GetoptError'>\n",
      "        <class 'pygments.filters.ErrorToken'>\n",
      "        <class 'IPython.core.prefilter.PrefilterError'>\n",
      "        <class 'IPython.core.alias.AliasError'>\n",
      "            <class 'IPython.core.alias.InvalidAliasError'>\n",
      "        <class 'sqlite3.Error'>\n",
      "            <class 'sqlite3.InterfaceError'>\n",
      "            <class 'sqlite3.DatabaseError'>\n",
      "                <class 'sqlite3.InternalError'>\n",
      "                <class 'sqlite3.OperationalError'>\n",
      "                <class 'sqlite3.ProgrammingError'>\n",
      "                <class 'sqlite3.IntegrityError'>\n",
      "                <class 'sqlite3.DataError'>\n",
      "                <class 'sqlite3.NotSupportedError'>\n",
      "        <class 'sqlite3.Warning'>\n",
      "        <class 'IPython.core.interactiveshell.SpaceInInput'>\n",
      "        <class 'xml.dom.DOMException'>\n",
      "            <class 'xml.dom.IndexSizeErr'>\n",
      "            <class 'xml.dom.DomstringSizeErr'>\n",
      "            <class 'xml.dom.HierarchyRequestErr'>\n",
      "            <class 'xml.dom.WrongDocumentErr'>\n",
      "            <class 'xml.dom.InvalidCharacterErr'>\n",
      "            <class 'xml.dom.NoDataAllowedErr'>\n",
      "            <class 'xml.dom.NoModificationAllowedErr'>\n",
      "            <class 'xml.dom.NotFoundErr'>\n",
      "            <class 'xml.dom.NotSupportedErr'>\n",
      "            <class 'xml.dom.InuseAttributeErr'>\n",
      "            <class 'xml.dom.InvalidStateErr'>\n",
      "            <class 'xml.dom.SyntaxErr'>\n",
      "            <class 'xml.dom.InvalidModificationErr'>\n",
      "            <class 'xml.dom.NamespaceErr'>\n",
      "            <class 'xml.dom.InvalidAccessErr'>\n",
      "            <class 'xml.dom.ValidationErr'>\n",
      "        <class 'prompt_toolkit.validation.ValidationError'>\n",
      "        <class 'prompt_toolkit.buffer.EditReadOnlyBuffer'>\n",
      "        <class 'prompt_toolkit.buffer._Retry'>\n",
      "        <class 'prompt_toolkit.layout.layout.InvalidLayoutError'>\n",
      "        <class 'prompt_toolkit.renderer.HeightIsUnknownError'>\n",
      "        <class 'parso.parser.ParserSyntaxError'>\n",
      "        <class 'parso.parser.InternalParseError'>\n",
      "        <class 'parso.python.diff._PositionUpdatingFinished'>\n",
      "        <class 'jedi.inference.helpers.SimpleGetItemNotFound'>\n",
      "        <class 'jedi.inference.utils.UncaughtAttributeError'>\n",
      "        <class 'jedi.inference.base_value.HasNoContext'>\n",
      "        <class 'jedi.inference.arguments.ParamIssue'>\n",
      "        <class 'jedi.api.exceptions._JediError'>\n",
      "            <class 'jedi.api.exceptions.InternalError'>\n",
      "            <class 'jedi.api.exceptions.WrongVersion'>\n",
      "            <class 'jedi.api.exceptions.RefactoringError'>\n",
      "        <class 'jedi.api.helpers.OnErrorLeaf'>\n",
      "        <class 'jedi.api.environment.InvalidPythonEnvironment'>\n",
      "        <class 'email.errors.MessageError'>\n",
      "            <class 'email.errors.MessageParseError'>\n",
      "                <class 'email.errors.HeaderParseError'>\n",
      "                <class 'email.errors.BoundaryError'>\n",
      "            <class 'email.errors.MultipartConversionError'>\n",
      "            <class 'email.errors.CharsetError'>\n",
      "        <class 'uu.Error'>\n",
      "        <class 'http.client.HTTPException'>\n",
      "            <class 'http.client.NotConnected'>\n",
      "            <class 'http.client.InvalidURL'>\n",
      "            <class 'http.client.UnknownProtocol'>\n",
      "            <class 'http.client.UnknownTransferEncoding'>\n",
      "            <class 'http.client.UnimplementedFileMode'>\n",
      "            <class 'http.client.IncompleteRead'>\n",
      "            <class 'http.client.ImproperConnectionState'>\n",
      "                <class 'http.client.CannotSendRequest'>\n",
      "                <class 'http.client.CannotSendHeader'>\n",
      "                <class 'http.client.ResponseNotReady'>\n",
      "            <class 'http.client.BadStatusLine'>\n",
      "                <class 'http.client.RemoteDisconnected'>\n",
      "            <class 'http.client.LineTooLong'>\n",
      "        <class 'IPython.core.magics.code.InteractivelyDefined'>\n",
      "        <class 'IPython.terminal.embed.KillEmbedded'>\n",
      "        <class 'psutil.Error'>\n",
      "            <class 'psutil.NoSuchProcess'>\n",
      "                <class 'psutil.ZombieProcess'>\n",
      "            <class 'psutil.AccessDenied'>\n",
      "            <class 'psutil.TimeoutExpired'>\n",
      "        <class 'psutil._pslinux._Ipv6UnsupportedError'>\n",
      "        <class 'tornado.queues.QueueEmpty'>\n",
      "        <class 'tornado.queues.QueueFull'>\n",
      "        <class '_pydev_bundle._pydev_saved_modules.DebuggerInitializationError'>\n",
      "        <class 'xml.parsers.expat.ExpatError'>\n",
      "        <class 'xmlrpc.client.Error'>\n",
      "            <class 'xmlrpc.client.ProtocolError'>\n",
      "            <class 'xmlrpc.client.ResponseError'>\n",
      "            <class 'xmlrpc.client.Fault'>\n",
      "        <class 'pkg_resources._vendor.pyparsing.exceptions.ParseBaseException'>\n",
      "            <class 'pkg_resources._vendor.pyparsing.exceptions.ParseException'>\n",
      "            <class 'pkg_resources._vendor.pyparsing.exceptions.ParseFatalException'>\n",
      "                <class 'pkg_resources._vendor.pyparsing.exceptions.ParseSyntaxException'>\n",
      "        <class 'pkg_resources._vendor.pyparsing.exceptions.RecursiveGrammarException'>\n",
      "        <class 'pkg_resources.ResolutionError'>\n",
      "            <class 'pkg_resources.VersionConflict'>\n",
      "                <class 'pkg_resources.ContextualVersionConflict'>\n",
      "            <class 'pkg_resources.DistributionNotFound'>\n",
      "            <class 'pkg_resources.UnknownExtra'>\n",
      "        <class '_pydevd_bundle.pydevd_runpy._Error'>\n",
      "        <class '_pydevd_bundle.pydevd_resolver.UnableToResolveVariableException'>\n",
      "        <class '_pydev_bundle.pydev_monkey.InvalidTypeInArgsException'>\n",
      "    <class 'GeneratorExit'>\n",
      "    <class 'SystemExit'>\n",
      "    <class 'KeyboardInterrupt'>\n",
      "    <class 'asyncio.exceptions.CancelledError'>\n",
      "    <class 'pkg_resources._vendor.more_itertools.more.AbortThread'>\n"
     ]
    }
   ],
   "source": [
    "import sys\n",
    "\n",
    "def print_exception_tree(exc_class, indent=0):\n",
    "    print(' ' * indent + str(exc_class))\n",
    "    for subclass in exc_class.__subclasses__():\n",
    "        print_exception_tree(subclass, indent + 4)\n",
    "\n",
    "print_exception_tree(BaseException)"
   ]
  },
  {
   "cell_type": "markdown",
   "id": "a85dde25-97bd-42c8-8f1b-dc20f7e3334c",
   "metadata": {
    "jp-MarkdownHeadingCollapsed": true,
    "tags": []
   },
   "source": [
    "### Question 3."
   ]
  },
  {
   "cell_type": "markdown",
   "id": "ed4d4a65-94ac-437f-9644-750904c96c4e",
   "metadata": {},
   "source": [
    "#### Again by __subclass()__ we can se all available exceptions "
   ]
  },
  {
   "cell_type": "code",
   "execution_count": 10,
   "id": "9b4a9e5a-0af8-4bad-8d4b-3cc80edb8f37",
   "metadata": {},
   "outputs": [
    {
     "data": {
      "text/plain": [
       "[FloatingPointError,\n",
       " OverflowError,\n",
       " ZeroDivisionError,\n",
       " decimal.DecimalException]"
      ]
     },
     "execution_count": 10,
     "metadata": {},
     "output_type": "execute_result"
    }
   ],
   "source": [
    "ArithmeticError.__subclasses__()"
   ]
  },
  {
   "cell_type": "markdown",
   "id": "15179f89-4ba3-4198-9ba4-7c891ce2cd2f",
   "metadata": {},
   "source": [
    "#### 1. ZeroDivisionError"
   ]
  },
  {
   "cell_type": "code",
   "execution_count": 11,
   "id": "9403b259-22d7-413e-8021-cd137718027f",
   "metadata": {
    "tags": []
   },
   "outputs": [
    {
     "ename": "ZeroDivisionError",
     "evalue": "division by zero",
     "output_type": "error",
     "traceback": [
      "\u001b[0;31m---------------------------------------------------------------------------\u001b[0m",
      "\u001b[0;31mZeroDivisionError\u001b[0m                         Traceback (most recent call last)",
      "Cell \u001b[0;32mIn[11], line 1\u001b[0m\n\u001b[0;32m----> 1\u001b[0m x \u001b[38;5;241m=\u001b[39m \u001b[38;5;241;43m20\u001b[39;49m\u001b[43m \u001b[49m\u001b[38;5;241;43m/\u001b[39;49m\u001b[43m \u001b[49m\u001b[38;5;241;43m0\u001b[39;49m\n",
      "\u001b[0;31mZeroDivisionError\u001b[0m: division by zero"
     ]
    }
   ],
   "source": [
    "x = 20 / 0"
   ]
  },
  {
   "cell_type": "markdown",
   "id": "cc19f0e2-203e-4ac1-98f6-eaca36b24805",
   "metadata": {},
   "source": [
    "#### 2. decimal.DecimalException"
   ]
  },
  {
   "cell_type": "code",
   "execution_count": null,
   "id": "7b2708d7-faa6-4af2-ba8f-39e15d91da8f",
   "metadata": {},
   "outputs": [],
   "source": [
    "import sys\n",
    "\n",
    "try:\n",
    "    a = sys.maxsize + 1  # Assigning a value larger than the maximum size of an integer\n",
    "    b = a ** a \n",
    "    print(b)\n",
    "except decimal.DecimalException as e:\n",
    "    print(e)"
   ]
  },
  {
   "cell_type": "markdown",
   "id": "15a6690f-705e-4753-a2be-eb56144ce855",
   "metadata": {
    "tags": []
   },
   "source": [
    "### Question 4."
   ]
  },
  {
   "cell_type": "markdown",
   "id": "c705a460-3265-4c3d-904b-c6ab92bdc749",
   "metadata": {},
   "source": [
    "#### **LookupError** exception raised we try to access any index of array or key from dict there we get thet error."
   ]
  },
  {
   "cell_type": "markdown",
   "id": "b6b82cec-22a1-4b79-8ce2-9a7c8d81a6c7",
   "metadata": {},
   "source": [
    "##### **KeyError** occures when we try to access key in dict "
   ]
  },
  {
   "cell_type": "code",
   "execution_count": 1,
   "id": "5bd76015-3cc5-44e0-852f-4be961ac14c1",
   "metadata": {},
   "outputs": [
    {
     "ename": "KeyError",
     "evalue": "'c'",
     "output_type": "error",
     "traceback": [
      "\u001b[0;31m---------------------------------------------------------------------------\u001b[0m",
      "\u001b[0;31mKeyError\u001b[0m                                  Traceback (most recent call last)",
      "Cell \u001b[0;32mIn[1], line 2\u001b[0m\n\u001b[1;32m      1\u001b[0m test1 \u001b[38;5;241m=\u001b[39m {\u001b[38;5;124m\"\u001b[39m\u001b[38;5;124ma\u001b[39m\u001b[38;5;124m\"\u001b[39m: \u001b[38;5;241m10\u001b[39m, \u001b[38;5;124m\"\u001b[39m\u001b[38;5;124mb\u001b[39m\u001b[38;5;124m\"\u001b[39m: \u001b[38;5;241m20\u001b[39m}\n\u001b[0;32m----> 2\u001b[0m \u001b[43mtest1\u001b[49m\u001b[43m[\u001b[49m\u001b[38;5;124;43m\"\u001b[39;49m\u001b[38;5;124;43mc\u001b[39;49m\u001b[38;5;124;43m\"\u001b[39;49m\u001b[43m]\u001b[49m\n",
      "\u001b[0;31mKeyError\u001b[0m: 'c'"
     ]
    }
   ],
   "source": [
    "test1 = {\"a\": 10, \"b\": 20}\n",
    "test1[\"c\"]"
   ]
  },
  {
   "cell_type": "markdown",
   "id": "bc6e4399-41ac-4d0e-bde9-ec2625e2c93a",
   "metadata": {},
   "source": [
    "##### **IndexError** occures when we try to access key in dict \n"
   ]
  },
  {
   "cell_type": "code",
   "execution_count": 2,
   "id": "3b9e09b3-74b2-4444-8353-a4c2e20c6022",
   "metadata": {},
   "outputs": [
    {
     "ename": "IndexError",
     "evalue": "list index out of range",
     "output_type": "error",
     "traceback": [
      "\u001b[0;31m---------------------------------------------------------------------------\u001b[0m",
      "\u001b[0;31mIndexError\u001b[0m                                Traceback (most recent call last)",
      "Cell \u001b[0;32mIn[2], line 2\u001b[0m\n\u001b[1;32m      1\u001b[0m test1 \u001b[38;5;241m=\u001b[39m [\u001b[38;5;241m1\u001b[39m, \u001b[38;5;241m2\u001b[39m, \u001b[38;5;241m3\u001b[39m]\n\u001b[0;32m----> 2\u001b[0m \u001b[43mtest1\u001b[49m\u001b[43m[\u001b[49m\u001b[38;5;241;43m10\u001b[39;49m\u001b[43m]\u001b[49m\n",
      "\u001b[0;31mIndexError\u001b[0m: list index out of range"
     ]
    }
   ],
   "source": [
    "test1 = [1, 2, 3]\n",
    "test1[10]"
   ]
  },
  {
   "cell_type": "markdown",
   "id": "e9d9a0ae-e3a0-4e57-9d7b-43bc3f79a4b3",
   "metadata": {
    "tags": []
   },
   "source": [
    "### Question 5."
   ]
  },
  {
   "cell_type": "markdown",
   "id": "8cf3bcd6-fee9-4aa3-a689-7900f213baca",
   "metadata": {},
   "source": [
    "#### Import error when we import unkown module which python won't able to find in backend"
   ]
  },
  {
   "cell_type": "code",
   "execution_count": 2,
   "id": "4add6e6f-dfc5-4e05-954c-fd22ca98cc23",
   "metadata": {},
   "outputs": [
    {
     "name": "stdout",
     "output_type": "stream",
     "text": [
      "No module named 'madhu'\n"
     ]
    }
   ],
   "source": [
    "try:\n",
    "    import madhu\n",
    "except ImportError as e:\n",
    "    print(e)"
   ]
  },
  {
   "cell_type": "markdown",
   "id": "d0b1b676-2512-46d6-9107-49787dfb1649",
   "metadata": {},
   "source": [
    "**ModuleNotFoundError** is same as **ImportError**. In before Python (3.6) ImportError was getting raised afetr that version ModuleNotFoundError was added which is raised specially if module which we are importing is not present"
   ]
  },
  {
   "cell_type": "markdown",
   "id": "bb98bbb3-677b-48ab-ab70-e550470baf8a",
   "metadata": {
    "tags": []
   },
   "source": [
    "### Question 6."
   ]
  },
  {
   "cell_type": "markdown",
   "id": "3f8e7e6b-712f-4a85-af41-e37cf7230d4c",
   "metadata": {},
   "source": [
    "1. Always try to use to use specific exception class in except block rather then base class Exception.\n",
    "\n",
    "2. Suspisious code should be handled so it won't give surpise on production.\n",
    "\n",
    "3. Exceptions should always be documented so other developers can understand that in future.\n",
    "\n",
    "4. Always need to log exception so in log file we can check the cause of exception.\n",
    "\n",
    "5. try to have multiple except if required."
   ]
  }
 ],
 "metadata": {
  "kernelspec": {
   "display_name": "Python 3 (ipykernel)",
   "language": "python",
   "name": "python3"
  },
  "language_info": {
   "codemirror_mode": {
    "name": "ipython",
    "version": 3
   },
   "file_extension": ".py",
   "mimetype": "text/x-python",
   "name": "python",
   "nbconvert_exporter": "python",
   "pygments_lexer": "ipython3",
   "version": "3.10.8"
  }
 },
 "nbformat": 4,
 "nbformat_minor": 5
}
