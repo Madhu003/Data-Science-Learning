{
 "cells": [
  {
   "cell_type": "markdown",
   "id": "e5a07b97-71b6-417d-9482-14d2017d28a8",
   "metadata": {
    "tags": []
   },
   "source": [
    "# Assignment - 4"
   ]
  },
  {
   "cell_type": "markdown",
   "id": "5b91ce0f-fa7d-4086-b8d1-5940069afc38",
   "metadata": {
    "jp-MarkdownHeadingCollapsed": true,
    "tags": []
   },
   "source": [
    "### Question 1. "
   ]
  },
  {
   "cell_type": "markdown",
   "id": "792ecf52-175c-424e-b907-40ae78f0f4c0",
   "metadata": {
    "tags": []
   },
   "source": [
    "#### Tuple is a similar to list but tuple can't be manipulated after creation because that is inmmutable. Tuple can be declare by paranthasis. "
   ]
  },
  {
   "cell_type": "code",
   "execution_count": 1,
   "id": "ce191c90-7ed3-4be4-98aa-05c0fbcdf882",
   "metadata": {},
   "outputs": [
    {
     "name": "stdout",
     "output_type": "stream",
     "text": [
      "1\n",
      "2\n",
      "3\n",
      "True\n",
      "test\n"
     ]
    }
   ],
   "source": [
    "tuples = (1, 2, 3, True, \"test\")\n",
    "\n",
    "for item in tuples:\n",
    "    print(item)"
   ]
  },
  {
   "cell_type": "markdown",
   "id": "20acd1f0-b606-4a8f-b4af-ce11f1445f6f",
   "metadata": {
    "jp-MarkdownHeadingCollapsed": true,
    "tags": []
   },
   "source": [
    "### Question 2. "
   ]
  },
  {
   "cell_type": "markdown",
   "id": "a7b418f1-6a9b-4fb9-a939-4b6753374935",
   "metadata": {
    "tags": []
   },
   "source": [
    "#### Tuples are immutable that is why there is only method to read data not to change data."
   ]
  },
  {
   "cell_type": "code",
   "execution_count": 3,
   "id": "5b43dd81-94fb-40a0-9777-a1439893bdd2",
   "metadata": {},
   "outputs": [
    {
     "name": "stdout",
     "output_type": "stream",
     "text": [
      "1\n",
      "2\n"
     ]
    }
   ],
   "source": [
    "tuples = (1, 2, 3, True, \"test\", 2)\n",
    "\n",
    "print(tuples.index(2)) # get index for first occurance on data given in argument\n",
    "print(tuples.count(2)) # get count of given data"
   ]
  },
  {
   "cell_type": "markdown",
   "id": "192f5e9d-3746-4e45-9454-61f9f21aea38",
   "metadata": {
    "jp-MarkdownHeadingCollapsed": true,
    "tags": []
   },
   "source": [
    "### Question 3. "
   ]
  },
  {
   "cell_type": "code",
   "execution_count": 5,
   "id": "9e259475-2936-4b72-83d8-ac431d5edf83",
   "metadata": {},
   "outputs": [
    {
     "name": "stdout",
     "output_type": "stream",
     "text": [
      "[1, 2, 3, 4]\n"
     ]
    }
   ],
   "source": [
    "listToMakeItUnique = [1, 1, 1, 2, 1, 3, 1, 4, 2, 1, 2, 2, 2, 3, 2, 4, 3, 1, 3, 2, 3, 3, 3, 4, 4, 1, 4, 2, 4, 3, 4, 4]\n",
    "newSet = set(listToMakeItUnique)\n",
    "print(list(newSet))\n"
   ]
  },
  {
   "cell_type": "markdown",
   "id": "212725d5-2754-472e-8ead-012f1074d609",
   "metadata": {
    "jp-MarkdownHeadingCollapsed": true,
    "tags": []
   },
   "source": [
    "### Question 4. "
   ]
  },
  {
   "cell_type": "markdown",
   "id": "bd9f3d80-7464-42a9-a7f4-0b8dff5e103e",
   "metadata": {},
   "source": [
    "#### Union is formmerging two sets & update is to uppend data in current set"
   ]
  },
  {
   "cell_type": "code",
   "execution_count": 13,
   "id": "b078a5f6-092d-42aa-aeb5-c36bfada8128",
   "metadata": {},
   "outputs": [
    {
     "name": "stdout",
     "output_type": "stream",
     "text": [
      "None\n",
      "{1, 2, 3, 4, 5, 6, 7, 8, 9, 10}\n"
     ]
    },
    {
     "data": {
      "text/plain": [
       "{1, 2, 3, 4, 5, 8, 9}"
      ]
     },
     "execution_count": 13,
     "metadata": {},
     "output_type": "execute_result"
    }
   ],
   "source": [
    "setA = {1,2,3,4,5}\n",
    "setB = {6,7,8,9,10}\n",
    "\n",
    "print(setA.update({8,9}))\n",
    "print(setA.union(setB))"
   ]
  },
  {
   "cell_type": "markdown",
   "id": "77b2f7e2-50df-43a0-933f-b8bdd1650f15",
   "metadata": {
    "jp-MarkdownHeadingCollapsed": true,
    "tags": []
   },
   "source": [
    "### Question 5. "
   ]
  },
  {
   "cell_type": "markdown",
   "id": "9e32fa12-2be8-41bb-993e-94430dd71668",
   "metadata": {},
   "source": [
    "#### Dictionary is key value paired based non linear data structure use to store colletion of data and use by curly brackets to declare it. Dictionary is not ordered colletion we nee yo use key to access the valu not index."
   ]
  },
  {
   "cell_type": "code",
   "execution_count": 19,
   "id": "1b1ea5c9-aaa2-4620-8d56-33b4ef684b14",
   "metadata": {},
   "outputs": [
    {
     "name": "stdout",
     "output_type": "stream",
     "text": [
      "{'a': 1, 'b': 2, 'c': 3, 'd': 4}\n"
     ]
    }
   ],
   "source": [
    "newDict = {'a': 1, 'b': 2, 'c': 5}\n",
    "newDict['c'] = 3\n",
    "newDict['d'] = 4\n",
    "\n",
    "print(newDict)"
   ]
  },
  {
   "cell_type": "markdown",
   "id": "742268b8-e2fc-4a02-aa5f-6cd1bf9e085b",
   "metadata": {
    "jp-MarkdownHeadingCollapsed": true,
    "tags": []
   },
   "source": [
    "### Question 6. "
   ]
  },
  {
   "cell_type": "markdown",
   "id": "a1e04b34-ce2b-484a-abc6-83245514528f",
   "metadata": {},
   "source": [
    "#### We can create multi level dictionary as we want and also in real world application we normallt use nested objects in JSON so that apply here as well."
   ]
  },
  {
   "cell_type": "code",
   "execution_count": 21,
   "id": "95fe2b77-0272-48d5-a9a4-92bfcabaff9d",
   "metadata": {},
   "outputs": [
    {
     "name": "stdout",
     "output_type": "stream",
     "text": [
      "{'a': 1, 'b': '2', 'secondLevel': {'c': 3, 'd': 4}}\n"
     ]
    }
   ],
   "source": [
    "newDict = {'a': 1, 'b': '2', 'secondLevel': {'c': 3, 'd': 4}}\n",
    "print(newDict)"
   ]
  },
  {
   "cell_type": "markdown",
   "id": "2758075a-4834-45d9-bbe6-6215e406faff",
   "metadata": {
    "tags": []
   },
   "source": [
    "### Question 7. "
   ]
  },
  {
   "cell_type": "code",
   "execution_count": 26,
   "id": "01fae138-e4de-4d4a-83f2-b77ccda9d5ec",
   "metadata": {},
   "outputs": [
    {
     "name": "stdout",
     "output_type": "stream",
     "text": [
      "{'newTopics': ['Python', 'Machine Learning', 'Deep Learning']}\n"
     ]
    }
   ],
   "source": [
    "newDict = {}\n",
    "newDict.setdefault('newTopics')\n",
    "newDict['newTopics'] = [\"Python\", \"Machine Learning\", \"Deep Learning\"]\n",
    "print(newDict)                   "
   ]
  },
  {
   "cell_type": "markdown",
   "id": "dcae11b8-f521-46a4-8df9-e6b247cfd1eb",
   "metadata": {
    "tags": []
   },
   "source": [
    "### Question 8. "
   ]
  },
  {
   "cell_type": "markdown",
   "id": "dd49794c-8766-400b-905a-78b8bf4e0a94",
   "metadata": {},
   "source": [
    "#### there are three method to show conetnt from dict - "
   ]
  },
  {
   "cell_type": "code",
   "execution_count": 31,
   "id": "989a273e-455c-4ebb-b41c-663b6e459e49",
   "metadata": {},
   "outputs": [
    {
     "name": "stdout",
     "output_type": "stream",
     "text": [
      "dict_keys(['a', 'b', 'c'])\n",
      "dict_values([1, 2, 5])\n",
      "dict_items([('a', 1), ('b', 2), ('c', 5)])\n"
     ]
    }
   ],
   "source": [
    "newDict = {'a': 1, 'b': 2, 'c': 5}\n",
    "\n",
    "print(newDict.keys()) # to show list of keys\n",
    "print(newDict.values()) # to show list of value\n",
    "print(newDict.items()) # to show key value pair in tuples"
   ]
  },
  {
   "cell_type": "code",
   "execution_count": null,
   "id": "a142f593-c501-4cdd-b612-64f3182fb545",
   "metadata": {},
   "outputs": [],
   "source": []
  }
 ],
 "metadata": {
  "kernelspec": {
   "display_name": "Python 3 (ipykernel)",
   "language": "python",
   "name": "python3"
  },
  "language_info": {
   "codemirror_mode": {
    "name": "ipython",
    "version": 3
   },
   "file_extension": ".py",
   "mimetype": "text/x-python",
   "name": "python",
   "nbconvert_exporter": "python",
   "pygments_lexer": "ipython3",
   "version": "3.10.8"
  }
 },
 "nbformat": 4,
 "nbformat_minor": 5
}
