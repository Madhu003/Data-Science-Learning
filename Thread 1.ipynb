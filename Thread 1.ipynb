{
 "cells": [
  {
   "cell_type": "code",
   "execution_count": 1,
   "id": "6a7ffd49-976e-4107-b803-24900ee8baa6",
   "metadata": {},
   "outputs": [],
   "source": [
    "# https://drive.google.com/file/d/1nc20Se0FaWuA1UVrVtXmH-yRUqRD_X5D/view"
   ]
  },
  {
   "cell_type": "code",
   "execution_count": 14,
   "id": "89c88dab-0b96-4722-a64c-f7fc2767b52c",
   "metadata": {},
   "outputs": [],
   "source": [
    "import threading\n",
    "import time"
   ]
  },
  {
   "cell_type": "markdown",
   "id": "d768530a-15b1-43ba-8d6c-9dbc867cc4b7",
   "metadata": {
    "tags": []
   },
   "source": [
    "### Question 1."
   ]
  },
  {
   "cell_type": "markdown",
   "id": "ea521481-a106-4fee-a525-79ab11047e4d",
   "metadata": {},
   "source": [
    "##### Multithreading means excuting more then one program on single core or CPU at a same time.\n",
    "\n",
    "##### Threading used to optimize the process of program execution, if there are 5 diffrent set of code which may occupie some resource or will be in waiting state of some resoans in the case thread helps to use that CPU to excute other code & that helps to performancfe to make code non blocking.\n",
    "\n",
    "##### threading is the module we need to import for using multithreading feature in python."
   ]
  },
  {
   "cell_type": "markdown",
   "id": "cd605fc9-b8ab-466b-a1d7-90dbf370a1c3",
   "metadata": {
    "tags": []
   },
   "source": [
    "### Question 2."
   ]
  },
  {
   "cell_type": "markdown",
   "id": "c57520fc-a4f5-4ad3-b62f-916d8efd3fb6",
   "metadata": {},
   "source": [
    "##### threading module use to access thread class and by that we can perform multithreading with help of those functions."
   ]
  },
  {
   "cell_type": "markdown",
   "id": "8b223801-53c7-49fc-a35d-d071bc4acb91",
   "metadata": {},
   "source": [
    "#### 1. active_count()\n",
    "##### this function used to return number of threads are active."
   ]
  },
  {
   "cell_type": "markdown",
   "id": "c4ef6d53-660c-4ff1-8145-4ce30470e85f",
   "metadata": {},
   "source": [
    "#### 2. current_thread()\n",
    "##### this function used to return object of current thread which is execution."
   ]
  },
  {
   "cell_type": "markdown",
   "id": "b0f28ab3-378e-488d-b2c6-a9c92c4b1b05",
   "metadata": {},
   "source": [
    "#### 3. enumerate()\n",
    "\n",
    "##### this function used to return list of alive threads in form of enumeration and enumration have count of iteration which can directive iterate through for loop. "
   ]
  },
  {
   "cell_type": "markdown",
   "id": "46b4d87d-b225-4b83-97e7-fb054e8f0617",
   "metadata": {
    "tags": []
   },
   "source": [
    "### Question 3."
   ]
  },
  {
   "cell_type": "markdown",
   "id": "65b62a71-2352-4a2b-aee5-f9c397e8276d",
   "metadata": {},
   "source": [
    "#### 1. run \n",
    "##### that is to have some code before starting the thread but that won't start the thread and recommended to not run it will be executed by start method.\n",
    "\n",
    "#### 2.  start\n",
    "##### this function is use to basicaaly start a thread\n",
    "\n",
    "#### 3.  join\n",
    "##### join is a function used to wait for it child thread to complete after thread the curretn thread will stop.\n",
    "\n",
    "#### 4. isAlive\n",
    "##### is Alive is use to check if thread is alive or killed"
   ]
  },
  {
   "cell_type": "code",
   "execution_count": 7,
   "id": "b57ddb99-b06a-4f5b-9155-00c1ea2e4197",
   "metadata": {},
   "outputs": [
    {
     "name": "stdout",
     "output_type": "stream",
     "text": [
      "in fun\n",
      "in fun\n"
     ]
    }
   ],
   "source": [
    "def test():\n",
    "    print(\"in fun\")\n",
    "    \n",
    "t1 = threading.Thread(target = test)\n",
    "t2 = threading.Thread(target = test)\n",
    "\n",
    "t1.start()\n",
    "time.sleep(2)\n",
    "# t2.run()\n",
    "t2.start()\n",
    "\n",
    "t1.join()\n",
    "t2.join()\n"
   ]
  },
  {
   "cell_type": "markdown",
   "id": "f67ceee2-9e79-43a6-b433-9050c07bebf1",
   "metadata": {
    "tags": []
   },
   "source": [
    "### Question 4."
   ]
  },
  {
   "cell_type": "code",
   "execution_count": 15,
   "id": "dff6b983-2b13-48b2-b96b-3d5dcbb565bd",
   "metadata": {},
   "outputs": [
    {
     "name": "stdout",
     "output_type": "stream",
     "text": [
      "this is square of 1  -  1\n",
      "this is qube of 1  -  1\n",
      "this is square of 2  -  4\n",
      "this is qube of 2  -  4\n",
      "this is square of 3  -  9\n",
      "this is qube of 3  -  9\n",
      "this is square of 4  -  16\n",
      "this is qube of 4  -  16\n",
      "this is square of 5  -  25\n",
      "this is qube of 5  -  25\n",
      "this is square of 6  -  36\n",
      "this is qube of 6  -  36\n"
     ]
    }
   ],
   "source": [
    "list_num = [1,2,3,4,5,6]\n",
    "\n",
    "def square(num):\n",
    "    print(\"this is square of\", num, \" - \", num ** 2)\n",
    "    \n",
    "def qube(num):\n",
    "    print(\"this is qube of\", num, \" - \", num ** 2)  \n",
    "    \n",
    "for num in list_num:\n",
    "    t1 = threading.Thread(target = square, args = (num, ))\n",
    "    t1.start()\n",
    "    \n",
    "    t2 = threading.Thread(target = qube, args = (num, ))\n",
    "    t2.start()\n"
   ]
  },
  {
   "cell_type": "markdown",
   "id": "f8e73e43-cdb2-4025-9e82-d6fa8fc1b945",
   "metadata": {
    "jp-MarkdownHeadingCollapsed": true,
    "tags": []
   },
   "source": [
    "### Question 5."
   ]
  },
  {
   "cell_type": "markdown",
   "id": "8c58f041-5229-49da-98a4-8902214dd142",
   "metadata": {},
   "source": [
    "#### Pros\n",
    "\n",
    "##### 1. Threading helps to improve performance as we can perform multiple task at same time.\n",
    "##### 2. We can share resource betwenn two diffrent programs so in terms of terms of optimization less space will be consume in memory.\n",
    "\n",
    "#### Cons\n",
    "\n",
    "##### 1. Code's complexity increases as some time it get's difficult to get the flow of exceution.\n",
    "##### 2. Deadlock is popular & comman program which need to avaid that can happen by waiting one program for resource r1 & same with another program for resource r2 which is used by other program that  creates deadlock\n"
   ]
  },
  {
   "cell_type": "markdown",
   "id": "75eff5eb-0a56-4c1e-8461-c71b149c735a",
   "metadata": {
    "tags": []
   },
   "source": [
    "### Question 6."
   ]
  },
  {
   "cell_type": "code",
   "execution_count": null,
   "id": "55f691db-6840-4c55-98ea-45927db1a7b8",
   "metadata": {},
   "outputs": [],
   "source": []
  },
  {
   "cell_type": "code",
   "execution_count": null,
   "id": "9bf124b3-71e0-4541-b051-a05ce9dd581d",
   "metadata": {},
   "outputs": [],
   "source": []
  },
  {
   "cell_type": "code",
   "execution_count": null,
   "id": "3181f7c8-8ed8-44e2-a045-8c76acfcd5cd",
   "metadata": {},
   "outputs": [],
   "source": []
  }
 ],
 "metadata": {
  "kernelspec": {
   "display_name": "Python 3 (ipykernel)",
   "language": "python",
   "name": "python3"
  },
  "language_info": {
   "codemirror_mode": {
    "name": "ipython",
    "version": 3
   },
   "file_extension": ".py",
   "mimetype": "text/x-python",
   "name": "python",
   "nbconvert_exporter": "python",
   "pygments_lexer": "ipython3",
   "version": "3.10.8"
  }
 },
 "nbformat": 4,
 "nbformat_minor": 5
}
