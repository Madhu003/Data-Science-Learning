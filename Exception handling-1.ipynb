{
 "cells": [
  {
   "cell_type": "code",
   "execution_count": 1,
   "id": "da55e77a-343f-4082-8d31-e7eda94ad533",
   "metadata": {},
   "outputs": [],
   "source": [
    "# https://drive.google.com/file/d/1MJ2u7Lh5zabWhCcjw0DX7cVjs3Ep4HnI/view"
   ]
  },
  {
   "cell_type": "markdown",
   "id": "e9a8c6db-6bc9-43a9-8171-0492332fe290",
   "metadata": {},
   "source": [
    "### Question 1."
   ]
  },
  {
   "cell_type": "markdown",
   "id": "a2e0d028-e65c-44ec-9f97-39354c6c60f9",
   "metadata": {},
   "source": [
    "##### While execution like doing operation on file if something went wrong on that task exception  helps to handle the flow and we can also log that to get the cause of failure.\n",
    "\n",
    "##### Exception occurs only run time means that kind of error which can't be fugure iut till code execution. And Sytax error occures when we break some rules of programming language like some reserved keyword are there we are using for creating variable or misspell some keyword which we use.  "
   ]
  },
  {
   "cell_type": "markdown",
   "id": "d06e48ea-84ec-4590-bf1a-0437b6d7e303",
   "metadata": {},
   "source": [
    "### Question 2."
   ]
  },
  {
   "cell_type": "markdown",
   "id": "1b655618-cb72-4116-af56-14523b454725",
   "metadata": {},
   "source": [
    "##### If there is some supisious code and we are not handling it that will break the flow of excecution and further code won't excute"
   ]
  },
  {
   "cell_type": "code",
   "execution_count": 2,
   "id": "7a5e77eb-0413-4295-860c-fde52b07abf7",
   "metadata": {},
   "outputs": [
    {
     "name": "stdout",
     "output_type": "stream",
     "text": [
      "before running exceptional code\n"
     ]
    },
    {
     "ename": "ZeroDivisionError",
     "evalue": "division by zero",
     "output_type": "error",
     "traceback": [
      "\u001b[0;31m---------------------------------------------------------------------------\u001b[0m",
      "\u001b[0;31mZeroDivisionError\u001b[0m                         Traceback (most recent call last)",
      "Cell \u001b[0;32mIn[2], line 2\u001b[0m\n\u001b[1;32m      1\u001b[0m \u001b[38;5;28mprint\u001b[39m(\u001b[38;5;124m\"\u001b[39m\u001b[38;5;124mbefore running exceptional code\u001b[39m\u001b[38;5;124m\"\u001b[39m)\n\u001b[0;32m----> 2\u001b[0m x \u001b[38;5;241m=\u001b[39m \u001b[38;5;241;43m10\u001b[39;49m\u001b[43m \u001b[49m\u001b[38;5;241;43m/\u001b[39;49m\u001b[43m \u001b[49m\u001b[38;5;241;43m0\u001b[39;49m\n\u001b[1;32m      3\u001b[0m \u001b[38;5;28mprint\u001b[39m(\u001b[38;5;124m\"\u001b[39m\u001b[38;5;124mafter running exceptional code\u001b[39m\u001b[38;5;124m\"\u001b[39m) \u001b[38;5;66;03m# thr won't exceute because of devide by zero exceution\u001b[39;00m\n",
      "\u001b[0;31mZeroDivisionError\u001b[0m: division by zero"
     ]
    }
   ],
   "source": [
    "print(\"before running exceptional code\")\n",
    "x = 10 / 0\n",
    "print(\"after running exceptional code\") # thr won't exceute because of devide by zero exceution"
   ]
  },
  {
   "cell_type": "markdown",
   "id": "425719b9-e0c2-43c7-adb5-e4eeb8705835",
   "metadata": {},
   "source": [
    "### Question 3."
   ]
  },
  {
   "cell_type": "markdown",
   "id": "487a9035-47bd-42c9-ac52-077e46077929",
   "metadata": {},
   "source": [
    "##### except is a section which is use to handle the flow if code is throwing error or exception & that code which can throw exception that will be in try section"
   ]
  },
  {
   "cell_type": "code",
   "execution_count": 6,
   "id": "b2a0e807-9142-4a82-9346-0f1dbd555757",
   "metadata": {},
   "outputs": [
    {
     "name": "stdout",
     "output_type": "stream",
     "text": [
      "[Errno 2] No such file or directory: 'test.txt'\n"
     ]
    }
   ],
   "source": [
    "try:\n",
    "    with open(\"test.txt\") as f:\n",
    "        print(f)\n",
    "except FileNotFoundError as e:\n",
    "    print(e)\n",
    "except Exception as e:\n",
    "    print(e)   "
   ]
  },
  {
   "cell_type": "markdown",
   "id": "454a32cf-111e-47e9-a360-c57c4095b9c7",
   "metadata": {},
   "source": [
    "### Question 4."
   ]
  },
  {
   "cell_type": "markdown",
   "id": "46938479-29ae-4d6d-85f2-0389524efc85",
   "metadata": {},
   "source": [
    "#### a. try and else"
   ]
  },
  {
   "cell_type": "markdown",
   "id": "4825f2ec-0bba-4d68-a6b4-fb9d6f027375",
   "metadata": {
    "tags": []
   },
   "source": [
    "##### try is use to cover code which can cause a exception and else block whill have a code whic will only execute if code didn't thow an exception from try block."
   ]
  },
  {
   "cell_type": "code",
   "execution_count": 8,
   "id": "a072408b-3c44-456c-bb79-77730f16fbd4",
   "metadata": {},
   "outputs": [
    {
     "name": "stdout",
     "output_type": "stream",
     "text": [
      "this code will if there is no exception\n"
     ]
    }
   ],
   "source": [
    "try:\n",
    "    x = 20 / 2\n",
    "except Exception as e:\n",
    "    print(e) \n",
    "else:\n",
    "    print(\"this code will if there is no exception\")\n",
    "    "
   ]
  },
  {
   "cell_type": "markdown",
   "id": "9df37135-191d-4d99-96e0-9884a2757ae4",
   "metadata": {},
   "source": [
    "#### b. finally"
   ]
  },
  {
   "cell_type": "markdown",
   "id": "443f9b7d-6074-46b4-a8a6-bb114666259a",
   "metadata": {
    "tags": []
   },
   "source": [
    "##### finally block is a section to make clean up code because that block will always run irresptive of try block is thow exception or not."
   ]
  },
  {
   "cell_type": "code",
   "execution_count": 7,
   "id": "774e9618-a01b-45db-a5c6-2019441b930d",
   "metadata": {},
   "outputs": [
    {
     "name": "stdout",
     "output_type": "stream",
     "text": [
      "division by zero\n",
      "this code will always run\n"
     ]
    }
   ],
   "source": [
    "try:\n",
    "    x = 20 / 0\n",
    "except Exception as e:\n",
    "    print(e) \n",
    "finally:\n",
    "    print(\"this code will always run\")"
   ]
  },
  {
   "cell_type": "markdown",
   "id": "3b5e5b7f-f9e6-4619-b7e9-8aca5b9d524a",
   "metadata": {},
   "source": [
    "#### c. raise"
   ]
  },
  {
   "cell_type": "markdown",
   "id": "9d223430-fc4d-4399-8e2e-bc3a83734fe2",
   "metadata": {
    "tags": []
   },
   "source": [
    "##### Raise is a keyword use to throw eception manually to handle our business logics."
   ]
  },
  {
   "cell_type": "code",
   "execution_count": 11,
   "id": "bb3f1e99-dc68-43b3-9275-df5abef872cb",
   "metadata": {},
   "outputs": [
    {
     "name": "stdout",
     "output_type": "stream",
     "text": [
      "before exception\n",
      "except block -  this exception raised manually\n"
     ]
    }
   ],
   "source": [
    "try:\n",
    "    print(\"before exception\")\n",
    "    raise Exception(\"this exception raised manually\")\n",
    "    print(\"after exception\")    \n",
    "except Exception as e:\n",
    "    print(\"except block - \", e)"
   ]
  },
  {
   "cell_type": "markdown",
   "id": "b92a11b0-abfb-447a-95d5-3277e3ace463",
   "metadata": {},
   "source": [
    "### Question 5 & 6."
   ]
  },
  {
   "cell_type": "markdown",
   "id": "8552a273-0bb9-446b-9a23-a807e8aa4e9e",
   "metadata": {},
   "source": [
    "#### As we have buit in exceptions like Exception or DevideByZero similarly we can create our own custom exception class which we suppose to raise mannulay to handle our business logic"
   ]
  },
  {
   "cell_type": "code",
   "execution_count": 15,
   "id": "b7753b7e-3a25-4ce8-bbf1-7acd949c00e2",
   "metadata": {},
   "outputs": [
    {
     "name": "stdout",
     "output_type": "stream",
     "text": [
      "except section -  age can't be zero or negative\n"
     ]
    }
   ],
   "source": [
    "class CustomException(Exception):\n",
    "    \n",
    "    def __init__(self, e):\n",
    "        # print(e)\n",
    "        pass\n",
    "\n",
    "try:\n",
    "    age = -20\n",
    "    \n",
    "    if(age <= 0):\n",
    "        raise CustomException(\"age can't be zero or negative\")\n",
    "except CustomException as e:\n",
    "    print(\"except section - \", e)         \n",
    "        "
   ]
  },
  {
   "cell_type": "code",
   "execution_count": null,
   "id": "49fe0d4c-b221-4412-bf73-8ce625124523",
   "metadata": {},
   "outputs": [],
   "source": []
  },
  {
   "cell_type": "code",
   "execution_count": null,
   "id": "eef6b234-921a-42fb-b944-1a7a11166844",
   "metadata": {},
   "outputs": [],
   "source": []
  },
  {
   "cell_type": "code",
   "execution_count": null,
   "id": "4c78d2a6-eb68-4cb0-ae52-4c70469800eb",
   "metadata": {},
   "outputs": [],
   "source": []
  },
  {
   "cell_type": "code",
   "execution_count": null,
   "id": "3ebed8b1-7421-458f-9381-1611f8806fd7",
   "metadata": {},
   "outputs": [],
   "source": []
  }
 ],
 "metadata": {
  "kernelspec": {
   "display_name": "Python 3 (ipykernel)",
   "language": "python",
   "name": "python3"
  },
  "language_info": {
   "codemirror_mode": {
    "name": "ipython",
    "version": 3
   },
   "file_extension": ".py",
   "mimetype": "text/x-python",
   "name": "python",
   "nbconvert_exporter": "python",
   "pygments_lexer": "ipython3",
   "version": "3.10.8"
  }
 },
 "nbformat": 4,
 "nbformat_minor": 5
}
