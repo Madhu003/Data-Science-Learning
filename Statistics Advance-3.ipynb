{
 "cells": [
  {
   "cell_type": "code",
   "execution_count": 2,
   "metadata": {},
   "outputs": [],
   "source": [
    "import math\n",
    "\n",
    "def estimate_population_mean(sample_mean, sample_stddev, sample_size):\n",
    "    # calculate the standard error of the mean\n",
    "    std_error = sample_stddev / math.sqrt(sample_size)\n",
    "    # calculate the margin of error for a 95% confidence interval\n",
    "    margin_of_error = 1.96 * std_error\n",
    "    # calculate the lower and upper bounds of the confidence interval\n",
    "    lower_bound = sample_mean - margin_of_error\n",
    "    upper_bound = sample_mean + margin_of_error\n",
    "    # return the estimated population mean and the confidence interval\n",
    "    return sample_mean, (lower_bound, upper_bound)\n",
    "\n",
    "# estimate_population_mean(20, 30, 50)"
   ]
  },
  {
   "cell_type": "code",
   "execution_count": 3,
   "metadata": {},
   "outputs": [
    {
     "name": "stdout",
     "output_type": "stream",
     "text": [
      "Estimated population mean: 10.5\n",
      "95% confidence interval: (10.108, 10.892)\n"
     ]
    }
   ],
   "source": [
    "sample_mean = 10.5\n",
    "sample_stddev = 2.0\n",
    "sample_size = 100\n",
    "population_mean, confidence_interval = estimate_population_mean(sample_mean, sample_stddev, sample_size)\n",
    "print(\"Estimated population mean:\", population_mean)\n",
    "print(\"95% confidence interval:\", confidence_interval)\n"
   ]
  },
  {
   "cell_type": "code",
   "execution_count": null,
   "metadata": {},
   "outputs": [],
   "source": []
  }
 ],
 "metadata": {
  "kernelspec": {
   "display_name": "Python 3",
   "language": "python",
   "name": "python3"
  },
  "language_info": {
   "codemirror_mode": {
    "name": "ipython",
    "version": 3
   },
   "file_extension": ".py",
   "mimetype": "text/x-python",
   "name": "python",
   "nbconvert_exporter": "python",
   "pygments_lexer": "ipython3",
   "version": "3.10.6"
  },
  "orig_nbformat": 4,
  "vscode": {
   "interpreter": {
    "hash": "767d51c1340bd893661ea55ea3124f6de3c7a262a8b4abca0554b478b1e2ff90"
   }
  }
 },
 "nbformat": 4,
 "nbformat_minor": 2
}
