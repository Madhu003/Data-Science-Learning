{
 "cells": [
  {
   "attachments": {},
   "cell_type": "markdown",
   "metadata": {},
   "source": [
    "### Question 1."
   ]
  },
  {
   "attachments": {},
   "cell_type": "markdown",
   "metadata": {},
   "source": [
    "Statistics is way to collect, arrange & analyzing the data to get some important useful & information. SO in business or any public domain from which data came from  on top of it decision can be taken."
   ]
  },
  {
   "attachments": {},
   "cell_type": "markdown",
   "metadata": {},
   "source": [
    "### Question 2."
   ]
  },
  {
   "attachments": {},
   "cell_type": "markdown",
   "metadata": {},
   "source": [
    "There vare two type of stats -\n",
    "\n",
    "1. **Descriptive**- it is consist to organize & summarize the data like calculate a mean to get average data of a perticular attribute.\n",
    "2. **Influential Stats**- It is consist to measure & form coclusion by that data like by sample data take decision of population. \n"
   ]
  },
  {
   "attachments": {},
   "cell_type": "markdown",
   "metadata": {},
   "source": [
    "### Question 3."
   ]
  },
  {
   "attachments": {},
   "cell_type": "markdown",
   "metadata": {},
   "source": [
    "There are two type of data - \n",
    "1. **Quantitve** - something which can be use to do mathatical calculation.\n",
    "    - **Discrete** - Whole no like 1 or 2 not decimal.\n",
    "    - **Continous** - Any numeric value like height(5.10\")\n",
    "2. **Quantitve** - It is language based data which may mapped to nuber to calculate something like sorting.\n",
    "    - **Nominal** - That is a kind og categorical data like gender which have two value male & female.\n",
    "    - **Ordenal** - Its also a categorical data but with ranking feature which means there we can say Good(1) should be upside as compare to bad(3) in sorting list.    "
   ]
  },
  {
   "attachments": {},
   "cell_type": "markdown",
   "metadata": {},
   "source": [
    "### Question 4."
   ]
  },
  {
   "attachments": {},
   "cell_type": "markdown",
   "metadata": {},
   "source": [
    "1. Grading in exam: A+, A, B+, B, C+, C, D, E => **Ordenal**\n",
    "2. Colour of mangoes: yellow, green, orange, red => **Nominal**\n",
    "3. Height data of a class: [178.9, 179, 179.5, 176, 177.2, 178.3, 175.8,...] => **Continuous**\n",
    "4. Number of mangoes exported by a farm: [500, 600, 478, 672, ...] => **Discrete**"
   ]
  },
  {
   "attachments": {},
   "cell_type": "markdown",
   "metadata": {},
   "source": [
    "### Question 5."
   ]
  },
  {
   "attachments": {},
   "cell_type": "markdown",
   "metadata": {},
   "source": [
    "There are four types of levels of measurement - \n",
    "\n",
    "1. **Nominal Scale Data** - Its is category based like gender - Male & Female\n",
    "2. **Ordinal Scale Data** - Its is based ranking means have order like marks A+ is more than B+ (where we can't find difference)\n",
    "3. **Interval Scale Data** - In this level rank & order matters but difference also can be measured and won't start with zero like room temprature.\n",
    "4. **Ratio Scale Data** - same like interval data but start with zerolike grades like 0, 10 & 100.\n"
   ]
  },
  {
   "attachments": {},
   "cell_type": "markdown",
   "metadata": {},
   "source": [
    "### Question 6"
   ]
  },
  {
   "attachments": {},
   "cell_type": "markdown",
   "metadata": {},
   "source": [
    "That is importtant to understand the level of measurement for data so when we collect the the to process it or to analyze it that helps to way of apporaching the data.\n",
    "\n",
    "As we know there are 4 levels of measurement - nominal, ordinal, interval & ratio.\n",
    "\n",
    "Ex. WE got a data in which there is a column names sex in which if we see we have only two kind of value that is Male & Female. So in that column we can say it is categorical data so it will fall in nominal & value is in string.\n"
   ]
  },
  {
   "attachments": {},
   "cell_type": "markdown",
   "metadata": {},
   "source": [
    "### Question 7"
   ]
  },
  {
   "attachments": {},
   "cell_type": "markdown",
   "metadata": {},
   "source": [
    "If we talk about Nominal data that is categorical data which have fix set of values in column.\n",
    "\n",
    "And same Ordnial data which can be be ranked so that data can be sort like scholl grades.\n"
   ]
  },
  {
   "attachments": {},
   "cell_type": "markdown",
   "metadata": {},
   "source": [
    "### Question 8"
   ]
  },
  {
   "attachments": {},
   "cell_type": "markdown",
   "metadata": {},
   "source": [
    "In histogram we can plot data in ranges actually need to devide all into given max number in data."
   ]
  },
  {
   "attachments": {},
   "cell_type": "markdown",
   "metadata": {},
   "source": [
    "### Question 9"
   ]
  },
  {
   "cell_type": "markdown",
   "metadata": {},
   "source": [
    "1. **Descriptive** - That means provding description of data or summarized version of giant dataset. Which help to understand the data which can't be read one by one.\n",
    "\n",
    "2. **Inferential Statistics** - That approach is used to get a sample data(random group of data) from population data(All big dataset). And by sample we predict the for population data.  "
   ]
  },
  {
   "attachments": {},
   "cell_type": "markdown",
   "metadata": {},
   "source": [
    "### Question 10"
   ]
  },
  {
   "cell_type": "markdown",
   "metadata": {},
   "source": [
    "Central Tendency & variability is to to get summary of numeric data by mean, median & Mode.\n",
    "\n",
    "1. **Mean** - To get avrage data from dataset.\n",
    "2. **Median** - Mendian is also used to get middle or avrage value but with this we can resolve problem of outlier.\n",
    "3. **Mode** - It talks about value is have max frequency in dataset"
   ]
  },
  {
   "cell_type": "markdown",
   "metadata": {},
   "source": []
  },
  {
   "cell_type": "markdown",
   "metadata": {},
   "source": []
  },
  {
   "cell_type": "markdown",
   "metadata": {},
   "source": []
  },
  {
   "cell_type": "markdown",
   "metadata": {},
   "source": []
  },
  {
   "cell_type": "code",
   "execution_count": null,
   "metadata": {},
   "outputs": [],
   "source": []
  },
  {
   "cell_type": "code",
   "execution_count": null,
   "metadata": {},
   "outputs": [],
   "source": []
  },
  {
   "cell_type": "code",
   "execution_count": null,
   "metadata": {},
   "outputs": [],
   "source": []
  },
  {
   "cell_type": "code",
   "execution_count": null,
   "metadata": {},
   "outputs": [],
   "source": []
  },
  {
   "cell_type": "code",
   "execution_count": null,
   "metadata": {},
   "outputs": [],
   "source": []
  },
  {
   "cell_type": "code",
   "execution_count": null,
   "metadata": {},
   "outputs": [],
   "source": []
  },
  {
   "cell_type": "code",
   "execution_count": null,
   "metadata": {},
   "outputs": [],
   "source": []
  },
  {
   "cell_type": "code",
   "execution_count": null,
   "metadata": {},
   "outputs": [],
   "source": []
  },
  {
   "cell_type": "code",
   "execution_count": null,
   "metadata": {},
   "outputs": [],
   "source": []
  }
 ],
 "metadata": {
  "language_info": {
   "name": "python"
  },
  "orig_nbformat": 4
 },
 "nbformat": 4,
 "nbformat_minor": 2
}
