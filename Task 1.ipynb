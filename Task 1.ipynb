{
 "cells": [
  {
   "cell_type": "markdown",
   "id": "187008ff-423a-4dd2-a9b4-3f85eddaa11c",
   "metadata": {},
   "source": [
    "### Questions 1."
   ]
  },
  {
   "cell_type": "code",
   "execution_count": 16,
   "id": "ae3eb584-8867-4ece-8dff-9a038c642727",
   "metadata": {},
   "outputs": [
    {
     "name": "stdout",
     "output_type": "stream",
     "text": [
      "1\n",
      "2\n",
      "3\n",
      "4\n",
      "44\n",
      "55\n",
      "66\n",
      "True\n",
      "False\n",
      "34\n",
      "56\n",
      "78\n",
      "89\n",
      "34\n",
      "1\n",
      "2\n",
      "3\n",
      "34\n",
      "55\n",
      "67\n",
      "78\n",
      "89\n",
      "45\n",
      "22\n",
      "61\n",
      "34\n",
      "56\n",
      "data science\n",
      "Machine Learning\n"
     ]
    }
   ],
   "source": [
    "list1 = [1,2,3,4, [44,55,66, True], False, (34,56,78,89,34), {1,2,3,3,2,1}, {1:34, \"key2\": [55, 67, 78, 89], 4: (45,\n",
    "22, 61, 34)}, [56, 'data science'], 'Machine Learning']\n",
    "\n",
    "def printFlatData(l): \n",
    "    for item in l:\n",
    "        if isinstance(item, str) or isinstance(item, int) or isinstance(item, bool):\n",
    "            print(item)\n",
    "        elif isinstance(item, list) or isinstance(item, tuple) or isinstance(item, set):\n",
    "            for objItem in item:\n",
    "                print(objItem)\n",
    "        else:\n",
    "            for value in item.values():\n",
    "                if isinstance(value, list) or isinstance(value, tuple):\n",
    "                    printFlatData(value)\n",
    "                else:    \n",
    "                    print(value)\n",
    "            \n",
    "            \n",
    "printFlatData(list1)"
   ]
  },
  {
   "cell_type": "markdown",
   "id": "3f679071-ad80-41f6-9528-8bad01b86b78",
   "metadata": {},
   "source": [
    "### Question 2."
   ]
  },
  {
   "cell_type": "code",
   "execution_count": 4,
   "id": "92d2a8c1-c989-413a-9bfa-59efab393a09",
   "metadata": {},
   "outputs": [
    {
     "name": "stdout",
     "output_type": "stream",
     "text": [
      "r$izmf$fa$yvxanv$z$wzfz$exrvmfref"
     ]
    }
   ],
   "source": [
    "strData = \"I want to become a Data Scientist\"\n",
    "strData = strData.lower()\n",
    "\n",
    "for char in strData:\n",
    "    \n",
    "    if char == \" \":\n",
    "        print(\"$\", end=\"\")\n",
    "    else:\n",
    "        currentAscii = ord(char)\n",
    "        if currentAscii <= 13+97:\n",
    "            # print(\"------->\", currentAscii, 122-currentAscii+1)\n",
    "            print(chr(122-currentAscii+97), end=\"\")\n",
    "        else:    \n",
    "            print(chr(currentAscii-13-1), end=\"\")\n",
    "            # print(char, end=\"\")\n",
    "        \n",
    "        # print(chr(122-currentAscii+1), end=\"\")"
   ]
  },
  {
   "cell_type": "code",
   "execution_count": null,
   "id": "a7c1a2a4-aad4-484f-9580-81e158c9edb0",
   "metadata": {},
   "outputs": [],
   "source": []
  }
 ],
 "metadata": {
  "kernelspec": {
   "display_name": "Python 3 (ipykernel)",
   "language": "python",
   "name": "python3"
  },
  "language_info": {
   "codemirror_mode": {
    "name": "ipython",
    "version": 3
   },
   "file_extension": ".py",
   "mimetype": "text/x-python",
   "name": "python",
   "nbconvert_exporter": "python",
   "pygments_lexer": "ipython3",
   "version": "3.10.8"
  }
 },
 "nbformat": 4,
 "nbformat_minor": 5
}
