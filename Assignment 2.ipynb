{
 "cells": [
  {
   "cell_type": "markdown",
   "id": "e5a07b97-71b6-417d-9482-14d2017d28a8",
   "metadata": {
    "tags": []
   },
   "source": [
    "# Assignment - 2 "
   ]
  },
  {
   "cell_type": "markdown",
   "id": "5b91ce0f-fa7d-4086-b8d1-5940069afc38",
   "metadata": {
    "tags": []
   },
   "source": [
    "### Question 1. "
   ]
  },
  {
   "cell_type": "code",
   "execution_count": 9,
   "id": "ce191c90-7ed3-4be4-98aa-05c0fbcdf882",
   "metadata": {},
   "outputs": [
    {
     "name": "stdin",
     "output_type": "stream",
     "text": [
      "Entert your marks in percentage 80\n"
     ]
    },
    {
     "name": "stdout",
     "output_type": "stream",
     "text": [
      "C\n"
     ]
    }
   ],
   "source": [
    "marks = int(input(\"Entert your marks in percentage\"))\n",
    "if marks > 90:\n",
    "    print(\"A\")\n",
    "elif marks > 80 and marks <= 90:\n",
    "    print(\"B\")\n",
    "elif marks >= 60 and marks <= 80:\n",
    "    print(\"C\")    \n",
    "elif marks < 60:\n",
    "    print(\"D\")      "
   ]
  },
  {
   "cell_type": "markdown",
   "id": "5a456093-7712-4512-9b98-fb8ad46305fd",
   "metadata": {
    "tags": []
   },
   "source": [
    "### Question 2. "
   ]
  },
  {
   "cell_type": "code",
   "execution_count": 3,
   "id": "4d1448ea-f59c-4384-8f4c-2df6011c60cc",
   "metadata": {},
   "outputs": [
    {
     "name": "stdin",
     "output_type": "stream",
     "text": [
      "Entert your cost price 5000\n"
     ]
    },
    {
     "name": "stdout",
     "output_type": "stream",
     "text": [
      "5%\n"
     ]
    }
   ],
   "source": [
    "costPrice = int(input(\"Entert your cost price\"))\n",
    "\n",
    "if costPrice > 10000:\n",
    "    print(\"15%\")\n",
    "elif costPrice > 5000 and costPrice <= 10000:\n",
    "    print(\"10%\")\n",
    "elif costPrice <= 5000:\n",
    "    print(\"5%\") \n",
    "    "
   ]
  },
  {
   "cell_type": "markdown",
   "id": "6188ff65-3374-47f3-a75c-1dc5f205687a",
   "metadata": {
    "tags": []
   },
   "source": [
    "### Question 3."
   ]
  },
  {
   "cell_type": "code",
   "execution_count": 8,
   "id": "e98b1a29-1047-4c53-acc3-bd507d0c60f4",
   "metadata": {},
   "outputs": [
    {
     "name": "stdin",
     "output_type": "stream",
     "text": [
      "Entert your city name Delhi\n"
     ]
    },
    {
     "name": "stdout",
     "output_type": "stream",
     "text": [
      "Red Fort\n"
     ]
    }
   ],
   "source": [
    "cityName = input(\"Entert your city name\")\n",
    "\n",
    "if cityName == \"Delhi\":\n",
    "    print(\"Red Fort\")\n",
    "elif cityName == \"Agra\":\n",
    "    print(\"Taj Mehal\")\n",
    "elif cityName == \"Jaipur\":\n",
    "    print(\"Jal Mehal\")\n",
    "else:\n",
    "    print(\"N/A\")\n"
   ]
  },
  {
   "cell_type": "markdown",
   "id": "89ba21e3-bd5b-4c6b-855d-e61dcd0fab75",
   "metadata": {
    "tags": []
   },
   "source": [
    "### Question 4."
   ]
  },
  {
   "cell_type": "code",
   "execution_count": 15,
   "id": "6b496227-b08e-4d4f-9c8a-9a3945a04f1c",
   "metadata": {},
   "outputs": [
    {
     "name": "stdin",
     "output_type": "stream",
     "text": [
      "Entert your number 9\n"
     ]
    },
    {
     "name": "stdout",
     "output_type": "stream",
     "text": [
      "2\n"
     ]
    }
   ],
   "source": [
    "# check how many time a given number can be devided by 3\n",
    "\n",
    "number = int(input(\"Entert your number\"))\n",
    "reminder = 0 \n",
    "count = 0\n",
    "\n",
    "while number > 0 and number % 3 == 0:\n",
    "    number = number / 3\n",
    "    count = count + 1\n",
    "\n",
    "print(count)    "
   ]
  },
  {
   "cell_type": "markdown",
   "id": "b76f566d-3351-4196-ad16-b49dd2c880c2",
   "metadata": {
    "tags": []
   },
   "source": [
    "### Question 5."
   ]
  },
  {
   "cell_type": "markdown",
   "id": "ee3acd0f-2f87-4cbb-a4a8-b40b42e8268f",
   "metadata": {},
   "source": [
    "#### use case for while loop -  when we wanted to iterate a set of code for a perticular condition till that is true then we can go with while. For example if we wante to iterate a array in reverse order then we can use whike loop by condition with index -  "
   ]
  },
  {
   "cell_type": "code",
   "execution_count": null,
   "id": "f9772670-1c5b-40a5-b9b1-50bf0e534bf9",
   "metadata": {},
   "outputs": [],
   "source": [
    "listToReverse = [1, 2, 3, 4, 5]\n",
    "count = len(listToReverse) - 1\n",
    "\n",
    "while count >=0:\n",
    "    print(listToReverse[count])\n",
    "    count = count - 1"
   ]
  },
  {
   "cell_type": "markdown",
   "id": "92bf0324-9c99-4d25-91ff-43e290c01ced",
   "metadata": {
    "tags": []
   },
   "source": [
    "### Question 6."
   ]
  },
  {
   "cell_type": "markdown",
   "id": "e7cac11d-1c1d-47d1-8f07-61bcfc796960",
   "metadata": {},
   "source": [
    "#### 1. First Pattern"
   ]
  },
  {
   "cell_type": "code",
   "execution_count": 3,
   "id": "5a2c31b2-a282-4339-a1be-d208de7bdb1a",
   "metadata": {
    "tags": []
   },
   "outputs": [
    {
     "name": "stdout",
     "output_type": "stream",
     "text": [
      "\n",
      "*\n",
      "**\n",
      "***\n",
      "****\n"
     ]
    }
   ],
   "source": [
    "count = 5\n",
    "\n",
    "# for i in range(count + 1):\n",
    "#     for j in range(i):\n",
    "#         print(\"*\", end=\"\")\n",
    "#     print(\"\\r\")\n",
    "    \n",
    "i = 0    \n",
    "while i < count:\n",
    "    j = 0\n",
    "    str = \"\"\n",
    "    while j < i:\n",
    "        str = str + \"*\"\n",
    "        j = j + 1\n",
    "    i = i+1    \n",
    "    print(str + \"\\r\") "
   ]
  },
  {
   "cell_type": "markdown",
   "id": "2334a7ca-2229-49d0-8467-330fb0bfbde3",
   "metadata": {},
   "source": [
    "#### 2. Second Pattern"
   ]
  },
  {
   "cell_type": "code",
   "execution_count": 1,
   "id": "9e3cb069-d569-4014-af1a-68f1b55df829",
   "metadata": {},
   "outputs": [
    {
     "name": "stdout",
     "output_type": "stream",
     "text": [
      "*****\n",
      "*****\n",
      "*****\n",
      "*****\n",
      "*****\n"
     ]
    }
   ],
   "source": [
    "count = 5\n",
    "# for i in range(count + 1):\n",
    "#     j = count\n",
    "#     for j in range(count + 1):\n",
    "#         print(\"*\", end=\"\")\n",
    "#     print(\"\\r\")\n",
    "    \n",
    "i = 0    \n",
    "while i < count:\n",
    "    j = 0\n",
    "    str = \"\"\n",
    "    while j < count:\n",
    "        str = str + \"*\"\n",
    "        j += 1\n",
    "    i += 1    \n",
    "    print(str + \"\\r\") "
   ]
  },
  {
   "cell_type": "markdown",
   "id": "890b29e8-2956-4d22-819f-38df7b54b1fc",
   "metadata": {},
   "source": [
    "#### 3. Third Pattern"
   ]
  },
  {
   "cell_type": "code",
   "execution_count": 11,
   "id": "81bd7785-9e42-443d-9f56-666f126e627e",
   "metadata": {},
   "outputs": [
    {
     "name": "stdout",
     "output_type": "stream",
     "text": [
      "*****\n",
      " ****\n",
      "  ***\n",
      "   **\n",
      "    *\n"
     ]
    }
   ],
   "source": [
    "count = 5\n",
    "\n",
    "# for i in range(count):\n",
    "#     for j in range (count):\n",
    "#         if j-i >= 0:\n",
    "#             print(\"*\", end = \"\")\n",
    "#         else:\n",
    "#             print(\" \", end = \"\")\n",
    "#     print(\"\\r\") \n",
    "    \n",
    "i = 0\n",
    "while i < count:\n",
    "    j = 0\n",
    "    while j < count:\n",
    "        if j-i >= 0:\n",
    "            print(\"*\", end = \"\")\n",
    "        else:\n",
    "            print(\" \", end = \"\")\n",
    "        \n",
    "        j += 1\n",
    "    print(\"\\r\")     \n",
    "    i += 1     "
   ]
  },
  {
   "cell_type": "markdown",
   "id": "ff1ca414-8010-4a91-a6fd-f636d9913ee9",
   "metadata": {
    "tags": []
   },
   "source": [
    "### Question 7."
   ]
  },
  {
   "cell_type": "markdown",
   "id": "62041340-a743-4c5e-95c5-61418f8df4d4",
   "metadata": {},
   "source": [
    "#### question 7 & 8 seems to be same"
   ]
  },
  {
   "cell_type": "code",
   "execution_count": 64,
   "id": "a7187666-65a9-4a3d-aab1-c5c3f74659a9",
   "metadata": {},
   "outputs": [
    {
     "name": "stdout",
     "output_type": "stream",
     "text": [
      "9\n",
      "8\n",
      "7\n",
      "6\n",
      "5\n",
      "4\n",
      "3\n",
      "2\n",
      "1\n",
      "0\n"
     ]
    }
   ],
   "source": [
    "listToReverse = range(10)\n",
    "count = len(listToReverse)-1\n",
    "\n",
    "while count >=0:\n",
    "    print(listToReverse[count])\n",
    "    count = count - 1"
   ]
  }
 ],
 "metadata": {
  "kernelspec": {
   "display_name": "Python 3 (ipykernel)",
   "language": "python",
   "name": "python3"
  },
  "language_info": {
   "codemirror_mode": {
    "name": "ipython",
    "version": 3
   },
   "file_extension": ".py",
   "mimetype": "text/x-python",
   "name": "python",
   "nbconvert_exporter": "python",
   "pygments_lexer": "ipython3",
   "version": "3.10.8"
  }
 },
 "nbformat": 4,
 "nbformat_minor": 5
}
