{
 "cells": [
  {
   "cell_type": "markdown",
   "id": "e5a07b97-71b6-417d-9482-14d2017d28a8",
   "metadata": {},
   "source": [
    "# Assignment - 2 "
   ]
  },
  {
   "cell_type": "markdown",
   "id": "5b91ce0f-fa7d-4086-b8d1-5940069afc38",
   "metadata": {},
   "source": [
    "### Question 1. "
   ]
  },
  {
   "cell_type": "code",
   "execution_count": 5,
   "id": "ce191c90-7ed3-4be4-98aa-05c0fbcdf882",
   "metadata": {},
   "outputs": [
    {
     "name": "stdin",
     "output_type": "stream",
     "text": [
      "Entert your marks in percentage 95\n"
     ]
    },
    {
     "name": "stdout",
     "output_type": "stream",
     "text": [
      "A\n"
     ]
    }
   ],
   "source": [
    "marks = int(input(\"Entert your marks in percentage\"))\n",
    "if marks > 90:\n",
    "    print(\"A\")\n",
    "elif marks > 80 and marks <= 90:\n",
    "    print(\"B\")\n",
    "elif marks >= 60 and marks <= 80:\n",
    "    print(\"C\")    \n",
    "elif marks < 60:\n",
    "    print(\"D\")      "
   ]
  },
  {
   "cell_type": "code",
   "execution_count": null,
   "id": "42d7c269-9d9b-430a-895a-7c5499ce9c11",
   "metadata": {},
   "outputs": [],
   "source": []
  }
 ],
 "metadata": {
  "kernelspec": {
   "display_name": "Python 3 (ipykernel)",
   "language": "python",
   "name": "python3"
  },
  "language_info": {
   "codemirror_mode": {
    "name": "ipython",
    "version": 3
   },
   "file_extension": ".py",
   "mimetype": "text/x-python",
   "name": "python",
   "nbconvert_exporter": "python",
   "pygments_lexer": "ipython3",
   "version": "3.10.8"
  }
 },
 "nbformat": 4,
 "nbformat_minor": 5
}
